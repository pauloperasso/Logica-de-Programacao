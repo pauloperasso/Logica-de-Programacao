{
  "cells": [
    {
      "cell_type": "markdown",
      "metadata": {
        "id": "eukAJhnq3T1T"
      },
      "source": [
        "#**TTI103 - Lógica de Programação**\n",
        "\n",
        "#**Aula L18 - Mais strings**"
      ]
    },
    {
      "cell_type": "markdown",
      "metadata": {
        "id": "57mESXyENDjL"
      },
      "source": [
        "##**Exercício 01 - Manipulações simples com strings**\n",
        "\n",
        "**a)** Construa um programa em Python que troque todas as ocorrências de uma letra `L1` pela letra `L2` em uma *string* `txt`. A *string* `txt`e as letras `L1` e `L2` devem ser fornecidas pelo usuário."
      ]
    },
    {
      "cell_type": "code",
      "execution_count": 3,
      "metadata": {
        "id": "AOLneMzYNY77"
      },
      "outputs": [
        {
          "name": "stdout",
          "output_type": "stream",
          "text": [
            "Hoje acordei com vontade de dormir mais\n"
          ]
        }
      ],
      "source": [
        "# Exercício 01a\n",
        "texto = input(\"Digite seu texto: \")\n",
        "L1 = input(\"Digite a letra a ser substituída: \")\n",
        "L2 = input(\"Digite a letra substituta: \")\n",
        "novo_texto = texto.replace(L1,L2)\n",
        "print(novo_texto)"
      ]
    },
    {
      "cell_type": "markdown",
      "metadata": {
        "id": "G-pgO4j7Ndez"
      },
      "source": [
        "**b)** Escreva um programa que leia duas palavras e diga qual deles vem primeiro na ordem\n",
        "alfabética.\n",
        "\n",
        "*Dica:* `'a'` é menor do que `'b'`."
      ]
    },
    {
      "cell_type": "code",
      "execution_count": 6,
      "metadata": {
        "id": "ki54cf-bN67b"
      },
      "outputs": [
        {
          "name": "stdout",
          "output_type": "stream",
          "text": [
            "A palavra 'Camisa' vem antes na ordem alfabética\n"
          ]
        }
      ],
      "source": [
        "# Exercício 01b\n",
        "palavra01 = input(\"Digite a primeira palavra: \")\n",
        "palavra02 = input(\"Digite a segunda palavra: \")\n",
        "if palavra01 < palavra02:\n",
        "    print(f\"A palavra '{palavra01}' vem antes na ordem alfabética\")\n",
        "elif palavra01 > palavra02:\n",
        "    print(f\"A palavra '{palavra02}' vem antes na ordem alfabética\")\n",
        "else:\n",
        "    print(\"Você digitou duas palavras iguais\")"
      ]
    },
    {
      "cell_type": "markdown",
      "metadata": {
        "id": "_N5TtBNNZkHY"
      },
      "source": [
        "**c)** Escreva um programa que leia vários números reais em uma mesma linha, e imprima a soma."
      ]
    },
    {
      "cell_type": "code",
      "execution_count": 27,
      "metadata": {
        "id": "lGwW5F_cZwa_"
      },
      "outputs": [
        {
          "name": "stdout",
          "output_type": "stream",
          "text": [
            "A soma dos números é: 280\n"
          ]
        }
      ],
      "source": [
        "# Exercício 01c\n",
        "numeros = list(map(float, input(\"Digite os números separados por espaço: \").split()))\n",
        "soma = sum(numeros)\n",
        "print(f\"A soma dos números é: {soma:.0f}\")"
      ]
    },
    {
      "cell_type": "markdown",
      "metadata": {
        "id": "xZx6J_JQaxVB"
      },
      "source": [
        "**d)** Escreva a função `insere_se_novo` de acordo com a *string* de ajuda fornecida:"
      ]
    },
    {
      "cell_type": "code",
      "execution_count": 29,
      "metadata": {
        "id": "rpxniP8acmmp"
      },
      "outputs": [],
      "source": [
        "def insere_se_novo (nome, lista):\n",
        "  if nome in lista:\n",
        "    return lista.index(nome)\n",
        "  else:\n",
        "    lista.append(nome)\n",
        "    return lista.index(nome)\n",
        "\n"
      ]
    },
    {
      "cell_type": "markdown",
      "metadata": {
        "id": "cgRU7VIzcp2Z"
      },
      "source": [
        "Essa função devolve a posição em que o *string* `x` ocorre em lista ou, caso `x` não estiver na lista, insere `x` no final da lista e devolve o índice dessa posição. O código a seguir deve ser usado para testar sua função:"
      ]
    },
    {
      "cell_type": "code",
      "execution_count": 30,
      "metadata": {
        "id": "Ja2xcw3Yc_ao"
      },
      "outputs": [
        {
          "name": "stdout",
          "output_type": "stream",
          "text": [
            "['Ronaldo', 'Romário', 'Rivelino', 'Pelé'], que deve ser Ronaldo, Romário, Rivelino, Pelé.\n"
          ]
        }
      ],
      "source": [
        "# Codigo de teste\n",
        "lista = ['Ronaldo', 'Romário', 'Rivelino']\n",
        "pos = insere_se_novo('Romário', lista)\n",
        "pos = insere_se_novo('Pelé', lista)\n",
        "pos = insere_se_novo('Rivelino', lista)\n",
        "print(f'{lista}, que deve ser Ronaldo, Romário, Rivelino, Pelé.')"
      ]
    },
    {
      "cell_type": "markdown",
      "metadata": {
        "id": "ybjQmQpq8qL3"
      },
      "source": [
        "**e)** Elabore um programa modular que leia o nome do usuário e o imprima na vertical, em forma de escada, usando apenas letras maiúsculas. Use a função `imprimir_escada`.\n",
        "\n",
        "Exemplo de uso:\n",
        "\n",
        "Nome = Vanessa\n",
        "\n",
        "Resultado gerado pelo programa:\n",
        "\n",
        "V\n",
        "\n",
        "VA\n",
        "\n",
        "VAN\n",
        "\n",
        "VANE\n",
        "\n",
        "VANES\n",
        "\n",
        "VANESS\n",
        "\n",
        "VANESSA"
      ]
    },
    {
      "cell_type": "code",
      "execution_count": null,
      "metadata": {
        "id": "S_oocSDC8rSx"
      },
      "outputs": [],
      "source": [
        "def imprimir_escada(nome):\n",
        "  pass\n",
        "\n",
        "# Entrada de dados\n",
        "nome = input('Digite seu nome: ')\n",
        "# Saída de dados\n",
        "imprimir_escada(nome)"
      ]
    },
    {
      "cell_type": "markdown",
      "metadata": {
        "id": "WaIyvXLa38Xo"
      },
      "source": [
        "##**Exercício 02 – Senha da biblioteca**\n",
        "\n",
        "Uma biblioteca distribui um cartão magnético para que os alunos possam frequentá-la. A senha inicial, enviada pelo correio, é gerada automaticamente a partir da data de nascimento do aluno ('dd/mm/aaaa') do seguinte modo:\n",
        "\n",
        "`mm + '$' + dd(invertido) + '#' + dd + '!' + mm(invertido) + '\\' + aaaa`\n",
        "\n",
        "Assim, se a data de nascimento é 25/10/1995, a senha será:\n",
        "\n",
        "`10$52#25!01\\1995`\n",
        "\n",
        "Escreva um programa modular que solicite ao usuário a inserção da data de nascimento no formato dd/mm/aaaa e retorne sua senha de acordo com as regras da biblioteca."
      ]
    },
    {
      "cell_type": "code",
      "execution_count": 21,
      "metadata": {
        "id": "T6hD6HtbhvmY"
      },
      "outputs": [
        {
          "data": {
            "text/plain": [
              "'10$52#25!01/1995'"
            ]
          },
          "execution_count": 21,
          "metadata": {},
          "output_type": "execute_result"
        }
      ],
      "source": [
        "# Exercício 02\n",
        "def senha_biblioteca(data_nascimento):\n",
        "    data_nascimento = input(\"Digite sua data de nascimento (dd/mm/aaaa): \")\n",
        "    dia, mes, ano = data_nascimento.split('/')\n",
        "    return f\"{mes}${dia[::-1]}#{dia}!{mes[::-1]}/{ano}\"\n",
        "senha_biblioteca(\"25/10/1995\")"
      ]
    },
    {
      "cell_type": "markdown",
      "metadata": {
        "id": "SMMs32Hih5VO"
      },
      "source": [
        "##**Exercício 03 - DNA**\n",
        "\n",
        "Construa uma função `DNA_complementar` que recebe uma *string* que representa\n",
        "uma cadeia de DNA e gera a cadeia complementar. A\n",
        "entrada e saída de dados deve ser feita pelo programa principal.\n",
        "\n",
        "Lembrando: O DNA (Ácido Desoxirribonucléico) é composto por milhões de nucleotídeos ligados uns aos outros. Separadamente, os nucleotídeos são bastante simples, consistindo de três partes diferentes:\n",
        "\n",
        "* Base nitrogenada (Adenina (A), Timina (T), Guanina (G) ou Citosina(C));\n",
        "* Desoxirribose (um açúcar de cinco carbonos);\n",
        "* Um grupamento fosfato.\n",
        "\n",
        "As bases nitrogenadas Adenina e Timina são complementares; o mesmo ocorre com Guanina e Citosina.\n",
        "\n",
        "Exemplo de uso:\n",
        "* Entrada: `AATCTGCAC`\n",
        "* Saída: `TTAGACGTG`"
      ]
    },
    {
      "cell_type": "code",
      "execution_count": null,
      "metadata": {
        "id": "wmZLDEF4fBkB"
      },
      "outputs": [],
      "source": [
        "# Função DNA_complementar\n",
        "def DNA_complementar(DNA):\n",
        "  pass"
      ]
    },
    {
      "cell_type": "code",
      "execution_count": null,
      "metadata": {
        "id": "LS3gBig41QyB"
      },
      "outputs": [],
      "source": [
        "# Exercício 03\n",
        "# Entrada de dados\n",
        "DNA = input('Digite a sequência de DNA: ')\n",
        "# DNA complementar\n",
        "DNA_comp = DNA_complementar(DNA)\n",
        "# Saída de dados\n",
        "print(f'Sequência complementar: {DNA_comp}')"
      ]
    },
    {
      "cell_type": "markdown",
      "metadata": {
        "id": "war3Lk2g9tQg"
      },
      "source": [
        "##**Exercício 04 - Ordenar títulos**\n",
        "\n",
        "Elabore um programa modular para ordenar uma lista de títulos de livros em ordem alfabética e deixá-los separados por vírgula.\n",
        "\n",
        "A lista de títulos é fornecida como uma *string* chamada `titulos`, onde cada título está em uma nova linha.\n",
        "\n",
        "Segue exemplo de lista:"
      ]
    },
    {
      "cell_type": "code",
      "execution_count": null,
      "metadata": {
        "id": "NZb7GYVO9645"
      },
      "outputs": [
        {
          "name": "stdout",
          "output_type": "stream",
          "text": [
            "1984, A Metamorfose, A Revolução dos Bichos, Cem Anos de Solidão, Crime e Castigo, Harry Potter e a Pedra Filosofal, Macunaíma, O Lobo da Estepe, O Senhor dos Anéis\n"
          ]
        }
      ],
      "source": [
        "titulos = \"\"\"O Senhor dos Anéis\n",
        "Harry Potter e a Pedra Filosofal\n",
        "1984\n",
        "O Lobo da Estepe\n",
        "Cem Anos de Solidão\n",
        "A Metamorfose\n",
        "A Revolução dos Bichos\n",
        "Crime e Castigo\n",
        "Macunaíma\"\"\"\n",
        "\n",
        "def ordenar_titulos(titulos):\n",
        "    lista_titulos = titulos.split(\"\\n\")\n",
        "    lista_titulos.sort()\n",
        "    return \", \".join(lista_titulos)\n",
        "\n",
        "print(ordenar_titulos(titulos))"
      ]
    },
    {
      "cell_type": "markdown",
      "metadata": {
        "id": "rJslIK3M--Nr"
      },
      "source": [
        "##**Exercício 05 - Contar palavras**\n",
        "\n",
        "Você trabalha em uma biblioteca e recebeu uma lista de títulos de artigos. Sua tarefa é criar um programa modular que conte quantas vezes uma determinada palavra chave aparece nos títulos dos artigos.\n",
        "\n",
        "Um exemplo de lista de títulos é visto na célula de código a seguir. Use essa lista para testar seu código, usando como entrada a *string* `'GPT'`."
      ]
    },
    {
      "cell_type": "code",
      "execution_count": 13,
      "metadata": {
        "id": "lHfM0-ZY_ID6"
      },
      "outputs": [],
      "source": [
        "artigos = [\n",
        "'Recurrent GPT: Interactive Generation of (Arbitrarily) Long Text',\n",
        "'VideoLLM: Modeling Video Sequence with Large Language Models',\n",
        "'Watermarking Text Data on Large Language Models for Dataset Copyright Protection',\n",
        "'InheritSumm: A General, Versatile and Compact Summarizer by Distilling from GPT',\n",
        "'Can Large Language Models emulate an inductive Thematic Analysis of semi-structured interviews? An exploration and provocation on the limits of the approach and the model',\n",
        "'GPT SW3: An Autoregressive Language Model for the Nordic Languages',\n",
        "'The Emergence of Economic Rationality of GPT',\n",
        "'Can We Edit Factual Knowledge by In-Context Learning?',\n",
        "'G3Detector: General GPT Generated Text Detector',\n",
        "'GPT Paternity Test: GPT Generated Text Detection with GPT Genetic Inheritance'\n",
        "]"
      ]
    },
    {
      "cell_type": "code",
      "execution_count": 1,
      "metadata": {
        "id": "FDN8S2tD_Jhv"
      },
      "outputs": [
        {
          "name": "stdout",
          "output_type": "stream",
          "text": [
            "A palavra \"Text\" foi encontrada 4 vezes na base de dados.\n"
          ]
        }
      ],
      "source": [
        "def contar_palavra_em_titulos(artigos, palavra_desejada):\n",
        "    contador = 0\n",
        "    for artigo in artigos:\n",
        "        contador += artigo.count(palavra_desejada)\n",
        "    return contador\n",
        "\n",
        "artigos = [\n",
        "    'Recurrent GPT: Interactive Generation of (Arbitrarily) Long Text',\n",
        "    'VideoLLM: Modeling Video Sequence with Large Language Models',\n",
        "    'Watermarking Text Data on Large Language Models for Dataset Copyright Protection',\n",
        "    'InheritSumm: A General, Versatile and Compact Summarizer by Distilling from GPT',\n",
        "    'Can Large Language Models emulate an inductive Thematic Analysis of semi-structured interviews? An exploration and provocation on the limits of the approach and the model',\n",
        "    'GPT SW3: An Autoregressive Language Model for the Nordic Languages',\n",
        "    'The Emergence of Economic Rationality of GPT',\n",
        "    'Can We Edit Factual Knowledge by In-Context Learning?',\n",
        "    'G3Detector: General GPT Generated Text Detector',\n",
        "    'GPT Paternity Test: GPT Generated Text Detection with GPT Genetic Inheritance'\n",
        "]\n",
        "\n",
        "palavra_desejada = 'Text'\n",
        "ocorrencias = contar_palavra_em_titulos(artigos, palavra_desejada)\n",
        "print(f'A palavra \"{palavra_desejada}\" foi encontrada {ocorrencias} vezes na base de dados.')"
      ]
    }
  ],
  "metadata": {
    "colab": {
      "provenance": []
    },
    "kernelspec": {
      "display_name": "Python 3",
      "language": "python",
      "name": "python3"
    },
    "language_info": {
      "codemirror_mode": {
        "name": "ipython",
        "version": 3
      },
      "file_extension": ".py",
      "mimetype": "text/x-python",
      "name": "python",
      "nbconvert_exporter": "python",
      "pygments_lexer": "ipython3",
      "version": "3.13.3"
    },
    "vscode": {
      "interpreter": {
        "hash": "c261aea317cc0286b3b3261fbba9abdec21eaa57589985bb7a274bf54d6cc0a7"
      }
    }
  },
  "nbformat": 4,
  "nbformat_minor": 0
}
