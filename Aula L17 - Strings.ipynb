{
  "cells": [
    {
      "cell_type": "markdown",
      "metadata": {
        "id": "eukAJhnq3T1T"
      },
      "source": [
        "#**TTI103 - Lógica de Programação**\n",
        "\n",
        "#**Aula L17 - Strings**"
      ]
    },
    {
      "cell_type": "markdown",
      "metadata": {
        "id": "WaIyvXLa38Xo"
      },
      "source": [
        "##**Exercício 01 – Gerando o *user name***\n",
        "\n",
        "Em uma universidade, à cada estudante é atribuído um *user name* necessário para o acesso à rede discente. Como parte de seu estágio no Departamento de Tecnologia da Informação da universidade, foi-lhe atribuída a tarefa de escrever um programa responsável pela geração dos nomes de usuário para os estudantes. As regras para a construção são vistas a seguir:\n",
        "\n",
        "* Selecione os três primeiros caracteres do nome do estudante (caso o nome possua menos de três caracteres, use o nome completo);\n",
        "\n",
        "* Selecione os três primeiros caracteres do sobrenome do estudante (caso o sobrenome possua menos de três caracteres, use o sobrenome completo);\n",
        "\n",
        "* Selecione os três últimos caracteres do registro acadêmico [RA ou ID] do estudante (caso o registro acadêmico ou ID possua menos de três caracteres, use o registro completo);\n",
        "\n",
        "* O *user name* é criado pela concatenação dos três conjuntos de caracteres (em caixa baixa).\n",
        "\n",
        "Para a criação do programa, modularize seu código:\n",
        "\n",
        "**a)** Crie uma função `gera_login` que recebe como parâmetros o nome, o sobrenome e o registro acadêmico de um estudante e retorna o user name criado.\n"
      ]
    },
    {
      "cell_type": "code",
      "execution_count": 4,
      "metadata": {
        "id": "T6hD6HtbhvmY"
      },
      "outputs": [
        {
          "name": "stdout",
          "output_type": "stream",
          "text": [
            "None\n",
            "None\n",
            "None\n"
          ]
        }
      ],
      "source": [
        "# Função gera_login (PRIMEIRA TENTATIVA)\n",
        "# def gera_login(nome, sobrenome, id):\n",
        "#        if len(nome) > 3:\n",
        "#             inicio = nome[:3]\n",
        "#        else:\n",
        "#             inicio = nome\n",
        "\n",
        "#        if len(sobrenome) > 3:\n",
        "#             meio = sobrenome[3:]\n",
        "#        else:\n",
        "#              meio = sobrenome    \n",
        "\n",
        "#        if len(id) > 3:\n",
        "#              fim = id[-3:]\n",
        "#        else:\n",
        "#              fim = id\n",
        "        \n",
        "              \n",
        "#        return inicio.lower() + meio.lower() + fim\n",
        "\n",
        "# Função gera_login (SEGUNDA TENTATIVA)\n",
        "def gera_login(nome, sobrenome, id):\n",
        "       inicio = nome[:3] if len(nome) > 3 else nome\n",
        "       meio = sobrenome[:3] if len(sobrenome) > 3 else sobrenome\n",
        "       fim = id[-3:] if len(id) > 3 else id\n",
        "\n",
        "\n",
        "print(gera_login(\"João\", \"Silva\", \"12345\"))\n",
        "print(gera_login(\"Xu\", \"Xiang\", \"8907\"))\n",
        "print(gera_login(\"Joaquim\", \"Sá\", \"0998\"))\n"
      ]
    },
    {
      "cell_type": "markdown",
      "metadata": {
        "id": "9H4LxlTAhykX"
      },
      "source": [
        "**b)** Elabore um programa que permita a entrada de dados de um estudante e exiba o respectivo user name."
      ]
    },
    {
      "cell_type": "code",
      "execution_count": 7,
      "metadata": {
        "id": "JbFcLo9hh2SX"
      },
      "outputs": [
        {
          "name": "stdout",
          "output_type": "stream",
          "text": [
            "Lista de palavras: ['Hoje', 'está', 'um', 'dia', 'bonito,', 'meu', 'amigo!']\n",
            "Caracteres de pontuação: !\"#$%&'()*+,-./:;<=>?@[\\]^_`{|}~\n",
            "Texto original sem pontuação: Hoje está um dia bonito meu amigo\n",
            "Lista de palavras sem pontuação: ['Hoje', 'está', 'um', 'dia', 'bonito', 'meu', 'amigo']\n"
          ]
        }
      ],
      "source": [
        "# Programa\n",
        "import string\n",
        "\n",
        "\n",
        "texto = \"Hoje está um dia bonito, meu amigo!\"\n",
        "pontuacao = string.punctuation\n",
        "print(f\"Lista de palavras: {texto.split()}\")\n",
        "tabela_conversao = str.maketrans(\"\", \"\", pontuacao)\n",
        "texto = texto.translate(tabela_conversao)\n",
        "print(f\"Caracteres de pontuação: {pontuacao}\")\n",
        "print(f\"Texto original sem pontuação: {texto}\")\n",
        "print(f\"Lista de palavras sem pontuação: {texto.split()}\")\n",
        "\n"
      ]
    },
    {
      "cell_type": "markdown",
      "metadata": {
        "id": "SMMs32Hih5VO"
      },
      "source": [
        "##**Exercício 02 - Validação de senha**\n",
        "\n",
        "Continuando seu trabalho no Departamento de TI da universidade, sua nova tarefa é a criação de um programa que valide a escolha de senha de cada estudante para o acesso à rede de computadores. Quando da criação da senha, o estudante foi comunicado de que a senha escolhida devia:\n",
        "\n",
        "* Ser formada por, no mínimo, sete caracteres;\n",
        "* Conter ao menos uma letra maiúscula;\n",
        "* Conter ao menos uma letra minúscula;\n",
        "* Conter ao menos um dígito numérico.\n",
        "\n",
        "Para a criação do programa, modularize seu código:\n",
        "\n",
        "**a)** Crie uma função `valida_senha` que recebe como parâmetro a senha do usuário e retorna `True` se a senha é válida ou `False`, caso contrário."
      ]
    },
    {
      "cell_type": "code",
      "execution_count": 16,
      "metadata": {
        "id": "LS3gBig41QyB"
      },
      "outputs": [
        {
          "name": "stdout",
          "output_type": "stream",
          "text": [
            "True\n"
          ]
        }
      ],
      "source": [
        "# Função valida_senha\n",
        "# https://www.w3schools.com/python/python_strings_methods.asp\n",
        "\n",
        "def valida_senha(senha):\n",
        "    comp_senha = 7\n",
        "    if len(senha) >= comp_senha:\n",
        "        tem_maiuscula = not(senha == senha.lower())\n",
        "        tem_minuscula = not(senha == senha.upper())\n",
        "        tem_numero = any([char.isdigit() for char in senha])\n",
        "        return tem_maiuscula and tem_minuscula and tem_numero\n",
        "    else:\n",
        "        return False\n",
        "\n",
        "print(valida_senha(\"Xampuzinho2004\"))"
      ]
    },
    {
      "cell_type": "markdown",
      "metadata": {
        "id": "kTSNZ6RKibmf"
      },
      "source": [
        "**b)** Elabore um programa que solicite a digitação da senha. Caso se trate de uma senha válida, o programa deve exibir a mensagem “Senha validada”. Caso seja inválida, o processo de entrada deve se repetir até que uma senha válida seja informada."
      ]
    },
    {
      "cell_type": "code",
      "execution_count": 17,
      "metadata": {
        "id": "3oedrWboiYY_"
      },
      "outputs": [
        {
          "name": "stdout",
          "output_type": "stream",
          "text": [
            "Erro: Senha Invalida\n",
            "Erro: Senha Invalida\n",
            "Erro: Senha Invalida\n",
            "Senha Validada!\n"
          ]
        }
      ],
      "source": [
        "# Programa\n",
        "senha = input(\"Digite sua senha: \")\n",
        "while not valida_senha(senha):\n",
        "    print(\"Erro: Senha Invalida\")\n",
        "    senha = input(\"Digite sua senha: \")\n",
        "print(\"Senha Validada!\")"
      ]
    },
    {
      "cell_type": "markdown",
      "metadata": {
        "id": "my2vbFJ8imjo"
      },
      "source": [
        "##**Exercício 03 – Vogais e consoantes**\n",
        "\n",
        "Escreva um programa que peça ao usuário a entrada de uma *string* (uma frase, por exemplo) e exiba o número de vogais e consoantes presentes nela. Para tanto:\n",
        "\n",
        "**a)** Crie uma função `conta_vogais` que recebe como parâmetro uma *string* e retorna o número de vogais nela contida."
      ]
    },
    {
      "cell_type": "code",
      "execution_count": 20,
      "metadata": {
        "id": "bYt1iwPyilw2"
      },
      "outputs": [
        {
          "name": "stdout",
          "output_type": "stream",
          "text": [
            "9\n"
          ]
        }
      ],
      "source": [
        "# Função conta_vogais\n",
        "def conta_vogais(texto):\n",
        "    texto = texto.lower()\n",
        "    vogais = \"aeiouáàéãíêóôõú\"\n",
        "    return sum([letra in vogais for letra in texto])\n",
        "\n",
        "print(conta_vogais(\"Mauá não tem mundial\"))"
      ]
    },
    {
      "cell_type": "markdown",
      "metadata": {
        "id": "4K02pSgw_BUA"
      },
      "source": [
        "**b)** Crie uma função `conta_consoantes` que recebe como parâmetro uma *string* e retorna o número de consoantes nela contida."
      ]
    },
    {
      "cell_type": "code",
      "execution_count": 19,
      "metadata": {
        "id": "cT9unCeIjOwY"
      },
      "outputs": [
        {
          "name": "stdout",
          "output_type": "stream",
          "text": [
            "8\n"
          ]
        }
      ],
      "source": [
        "# Função conta_consoantes\n",
        "def conta_consoantes(texto):\n",
        "    texto = texto.lower()\n",
        "    consoantes = \"bcdfghjklmnpqrstvwxyz\"\n",
        "    return sum([letra in consoantes for letra in texto])\n",
        "\n",
        "print(conta_consoantes(\"Mauá não tem mundial\"))"
      ]
    },
    {
      "cell_type": "markdown",
      "metadata": {
        "id": "Cq70n8m7_EEo"
      },
      "source": [
        "**c)** Construa o programa que recebe uma *string* do usuário e, usando as funções dos itens anteriores, exibe o número de vogais e consoantes nela presentes."
      ]
    },
    {
      "cell_type": "code",
      "execution_count": 23,
      "metadata": {
        "id": "30jdsVYdjRsW"
      },
      "outputs": [
        {
          "name": "stdout",
          "output_type": "stream",
          "text": [
            "A frase 'Moema' possui <function conta_vogais at 0x00000204DD5C1760> vogais e <function conta_consoantes at 0x00000204DD5C16C0> consoantes!\n"
          ]
        }
      ],
      "source": [
        "# Programa\n",
        "texto = input(\"Digite uma frase: \")\n",
        "num_vogais = conta_vogais(texto)\n",
        "num_consoantes = conta_consoantes(texto)\n",
        "print(f\"A frase '{texto}' possui {conta_vogais} vogais e {conta_consoantes} consoantes!\")"
      ]
    },
    {
      "cell_type": "markdown",
      "metadata": {
        "id": "TZW5nhe9jTlx"
      },
      "source": [
        "##**Exercício 04 – Pig Latin (“Latim porco”, em uma tradução livre)**\n",
        "\n",
        "Escreva um programa que solicita uma frase como entrada e a traduza para o “Latim porco”. Em uma de suas versões, a tradução de uma palavra para o “Latim porco” se dá em duas etapas:\n",
        "\n",
        "* Remoção da primeira letra da palavra e inserção dessa ao final;\n",
        "* Concatenar “ay” à palavra.\n",
        "\n",
        "Veja um exemplo:\n",
        "\n",
        "**Frase original:** Eu quero ver o oco (Refrão de “Eu quero ver o oco”, sucesso dos Raimundos em 1995)\n",
        "\n",
        "**Frase em \"latim porco\":** ueay ueroqay ervay oay cooay\n",
        "\n",
        "Para a criação do programa, modularize seu código:\n",
        "\n",
        "**a)** Crie uma função `pig_latin` que recebe como parâmetro uma frase e retorna sua tradução para o “latim porco”."
      ]
    },
    {
      "cell_type": "code",
      "execution_count": 28,
      "metadata": {
        "id": "_wqRzUd9kBnB"
      },
      "outputs": [
        {
          "name": "stdout",
          "output_type": "stream",
          "text": [
            "ueay ueroqay ervay oay cooay\n",
            "ipoquinhapay\n",
            "earstay orfay earsfay\n"
          ]
        }
      ],
      "source": [
        "# Função pig_latin\n",
        "def pig_latin(texto):\n",
        "    texto = texto.lower().split()\n",
        "    traducao = [palavra[1:] + palavra[0] + \"ay\" for palavra in texto]\n",
        "    return ' '.join(traducao) #Split divide, Join junta as strings\n",
        "\n",
        "print(pig_latin(\"Eu quero ver o oco\"))\n",
        "print(pig_latin(\"Pipoquinha\"))\n",
        "print(pig_latin(\"Tears for fears\"))"
      ]
    },
    {
      "cell_type": "markdown",
      "metadata": {
        "id": "redFuheZ__v6"
      },
      "source": [
        "**b)** Elabore um programa que solicite a digitação de uma frase e exiba a versão traduzida em “latim porco”."
      ]
    },
    {
      "cell_type": "code",
      "execution_count": null,
      "metadata": {
        "id": "Zm_zjRKakIKW"
      },
      "outputs": [],
      "source": [
        "# Programa"
      ]
    },
    {
      "cell_type": "markdown",
      "metadata": {
        "id": "Nwdo6Moy5MLa"
      },
      "source": [
        "##**Exercício 05 - Tratando datas**\n",
        "\n",
        "Leia uma cadeia de caracteres no formato “DD/MM/AAAA” e copie o dia, mês e ano para 3 variaveis inteiras. Antes disso:\n",
        "\n",
        "**a)** Construa uma função `verifica_barras` que recebe a data fornecida e checa se as barras estão posicionadas corretamente. Em caso de de inconsistência a função deve retornar `False`, caso contrário, `True`."
      ]
    },
    {
      "cell_type": "code",
      "execution_count": null,
      "metadata": {
        "id": "LNh6w8nU6n2h"
      },
      "outputs": [],
      "source": [
        "# Função verifica_barras\n",
        "\n",
        "# Testes\n",
        "print(verifica_barras(\"30/04/2025\"))\n",
        "print(verifica_barras(\"3004/2025\"))\n",
        "print(verifica_barras(\"30-04-2025\"))\n",
        "print(verifica_barras(\"3/04/2025\"))"
      ]
    },
    {
      "cell_type": "markdown",
      "metadata": {
        "id": "sfMH2hce6obA"
      },
      "source": [
        "**b)** Construa a função `verifica_campos` que recebe a data fornecida, separa os campos DD, MM e AAAA e verifica se são numéricos. Em caso afirmativo, a função deve retornar os campos no formato inteiro; caso contrário, deve retornar `False`."
      ]
    },
    {
      "cell_type": "code",
      "execution_count": null,
      "metadata": {
        "id": "K9vxoS8h72Cw"
      },
      "outputs": [],
      "source": [
        "# Função verifica_campos\n",
        "\n",
        "# Testes\n",
        "print(verifica_campos(\"30/04/2025\"))\n",
        "print(verifica_campos(\"30/ab/2025\"))\n",
        "print(verifica_campos(\"3a/04/2025\"))\n",
        "print(verifica_campos(\"30/04\"))"
      ]
    },
    {
      "cell_type": "markdown",
      "metadata": {
        "id": "7ozDAJJQ72bQ"
      },
      "source": [
        "**c)** Elabore um programa que peça ao usuário que digite uma data no formato DD/MM/AAAA e, usando as funções dos itens anteriores, armazene, se possível, os campos DD, MM e AAAA em variáveis inteiras. Se houver algum tipo de incoerência na entrada fornecida, o programa deve pedir nova digitação."
      ]
    },
    {
      "cell_type": "code",
      "execution_count": null,
      "metadata": {
        "id": "dfEJduA28ScJ"
      },
      "outputs": [],
      "source": [
        "# Programa\n"
      ]
    },
    {
      "cell_type": "markdown",
      "metadata": {
        "id": "kBTRt8fl8S0x"
      },
      "source": [
        "##**Desafio - Tratameto de strings**##\n",
        "\n",
        "Elabore um programa modular que encontre o conjunto de 5 dígitos consecutivos na sequência abaixo que gere o maior produto."
      ]
    },
    {
      "cell_type": "code",
      "execution_count": null,
      "metadata": {
        "id": "sWauEdy38yzB"
      },
      "outputs": [],
      "source": [
        "# String para análise\n",
        "sequencia = '''\n",
        "73167176531330624919225119674426574742355349194934\n",
        "96983520312774506326239578318016984801869478851843\n",
        "85861560789112949495459501737958331952853208805511\n",
        "12540698747158523863050715693290963295227443043557\n",
        "66896648950445244523161731856403098711121722383113\n",
        "62229893423380308135336276614282806444486645238749\n",
        "30358907296290491560440772390713810515859307960866\n",
        "70172427121883998797908792274921901699720888093776\n",
        "65727333001053367881220235421809751254540594752243\n",
        "52584907711670556013604839586446706324415722155397\n",
        "53697817977846174064955149290862569321978468622482\n",
        "83972241375657056057490261407972968652414535100474\n",
        "82166370484403199890008895243450658541227588666881\n",
        "16427171479924442928230863465674813919123162824586\n",
        "17866458359124566529476545682848912883142607690042\n",
        "24219022671055626321111109370544217506941658960408\n",
        "07198403850962455444362981230987879927244284909188\n",
        "84580156166097919133875499200524063689912560717606\n",
        "05886116467109405077541002256983155200055935729725\n",
        "71636269561882670428252483600823257530420752963450\n",
        "'''"
      ]
    },
    {
      "cell_type": "code",
      "execution_count": null,
      "metadata": {
        "id": "-5akT-jN-dr4"
      },
      "outputs": [],
      "source": []
    }
  ],
  "metadata": {
    "colab": {
      "provenance": []
    },
    "kernelspec": {
      "display_name": "Python 3",
      "language": "python",
      "name": "python3"
    },
    "language_info": {
      "codemirror_mode": {
        "name": "ipython",
        "version": 3
      },
      "file_extension": ".py",
      "mimetype": "text/x-python",
      "name": "python",
      "nbconvert_exporter": "python",
      "pygments_lexer": "ipython3",
      "version": "3.13.3"
    },
    "vscode": {
      "interpreter": {
        "hash": "c261aea317cc0286b3b3261fbba9abdec21eaa57589985bb7a274bf54d6cc0a7"
      }
    }
  },
  "nbformat": 4,
  "nbformat_minor": 0
}
