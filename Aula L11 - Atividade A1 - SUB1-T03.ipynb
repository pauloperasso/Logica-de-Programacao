{
  "cells": [
    {
      "cell_type": "markdown",
      "metadata": {
        "id": "oNAE5ZPfjt3g"
      },
      "source": [
        "#**TTI103 - Lógica de Programação**\n",
        "\n",
        "#**Aula L11 - Atividade A1**\n",
        "\n",
        "#**Prof. Vitor Alex - SUB1 / T03 - 01.04.2025 - 09h30**"
      ]
    },
    {
      "cell_type": "markdown",
      "metadata": {
        "id": "v9WCpnd-qtLX"
      },
      "source": [
        "# Instruções\n",
        "A Atividade A1:\n",
        "* cobre os assuntos estudados nas aulas L1 até L10.\n",
        "* pode ser realizada em duplas.\n",
        "* consta de cinco exercícios:\n",
        "  * Exercício 01 - Valor 2,0 pontos;\n",
        "  * Exercício 02 - Valor 2,0 pontos;\n",
        "  * Exercício 03 - Valor 2,0 pontos;\n",
        "  * Exercício 04 - Valor 2,0 pontos;\n",
        "  * Exercício 05 - Valor 2,0 pontos;\n",
        "* deve ser enviada ao ambiente Canvas por apenas um dos integrantes da equipe.\n"
      ]
    },
    {
      "cell_type": "markdown",
      "metadata": {
        "id": "1Iie7NE8pkFd"
      },
      "source": [
        "#Identificação\n",
        "A atividade será realizada em duplas. Favor identificar a tarefa com nome completo e RA de cada integrante da equipe."
      ]
    },
    {
      "cell_type": "code",
      "execution_count": 16,
      "metadata": {
        "id": "rGI7vP0Ajsob"
      },
      "outputs": [],
      "source": [
        "# @title Nome - 1º Integrante:\n",
        "Nome1 = \"Insira nome completo\" # @param {type:\"string\"}\n"
      ]
    },
    {
      "cell_type": "code",
      "execution_count": 17,
      "metadata": {
        "id": "UnY5L7gCqUkV"
      },
      "outputs": [],
      "source": [
        "# @title RA - 1º Integrante:\n",
        "RA1 = \"RA no formato XX.XXXXX-X\" # @param {type:\"string\"}\n"
      ]
    },
    {
      "cell_type": "code",
      "execution_count": 18,
      "metadata": {
        "id": "tJwGc4L-q0X4"
      },
      "outputs": [],
      "source": [
        "# @title Nome - 2º Integrante:\n",
        "Nome2 = \"Insira nome completo\" # @param {type:\"string\"}\n"
      ]
    },
    {
      "cell_type": "code",
      "execution_count": 19,
      "metadata": {
        "id": "PRb_skA9q9fh"
      },
      "outputs": [],
      "source": [
        "# @title RA - 2º Integrante:\n",
        "RA2 = \"RA no formato XX.XXXXX-X\" # @param {type:\"string\"}\n"
      ]
    },
    {
      "cell_type": "markdown",
      "metadata": {
        "id": "yHnnxSvFrggG"
      },
      "source": [
        "#**Exercício 01**\n",
        "**(Valor: 2,0 pts)** A área de um triângulo pode ser determinada a partir da fórmula de Hierão,\n",
        "\n",
        "$$K = \\sqrt{s(s-a)(s-b)(s-c)}, \\text{com }s=\\frac{a+b+c}{2},$$\n",
        "\n",
        "em que $K$ é a área do triângulo, $s$ é o semiperímetro e $a$, $b$ e $c$ são os comprimentos dos lados do triângulo.\n",
        "\n",
        "\n",
        "Um aluno iniciante em Python desenvolveu um código para automatizar esse cálculo, mas não obteve sucesso. Observe o código desenvolvido e, na célula seguinte, corrija os erros e ajude o colega!"
      ]
    },
    {
      "cell_type": "code",
      "execution_count": 20,
      "metadata": {
        "id": "r4botnL2s9S5"
      },
      "outputs": [
        {
          "ename": "SyntaxError",
          "evalue": "Missing parentheses in call to 'print'. Did you mean print(...)? (277021191.py, line 7)",
          "output_type": "error",
          "traceback": [
            "  \u001b[36mCell\u001b[39m\u001b[36m \u001b[39m\u001b[32mIn[20]\u001b[39m\u001b[32m, line 7\u001b[39m\n\u001b[31m    \u001b[39m\u001b[31mprint K\u001b[39m\n    ^\n\u001b[31mSyntaxError\u001b[39m\u001b[31m:\u001b[39m Missing parentheses in call to 'print'. Did you mean print(...)?\n"
          ]
        }
      ],
      "source": [
        "# Código escrito pelo aluno\n",
        "a = input('Digite o comprimento do 1º lado: ')\n",
        "b = input('Digite o comprimento do 2º lado: ')\n",
        "c = input('Digite o comprimento do 3º lado: ')\n",
        "s = a + b + c / 2\n",
        "K = sqrt(s*(s-a)*(s-b)*(s-c))\n",
        "print K"
      ]
    },
    {
      "cell_type": "code",
      "execution_count": null,
      "metadata": {
        "id": "KNfFhw25tqIe"
      },
      "outputs": [],
      "source": [
        "# Exercício 01\n",
        "# Corrija o código aqui!"
      ]
    },
    {
      "cell_type": "markdown",
      "metadata": {
        "id": "w_vMamRst7pg"
      },
      "source": [
        "#**Exercício 02**\n",
        "\n",
        "**(Valor: 2,0 pts)** Escreva um programa em Python para calcular o salário total a ser pago a um trabalhador por uma semana de trabalho. Horas extras trabalhadas acima das 40 horas contratuais são pagas com adicional de 75% por hora extra trabalhada.\n",
        "\n",
        "**Requerimento:**\n",
        "* Insira o número de horas trabalhadas na semana e valor a ser recebido por hora;\n",
        "* Calcule o número de horas adicionais e o pagamento extra por trabalhar mais de 40 horas por semana;\n",
        "* Calcule o pagamento a ser efetuado;\n",
        "* Os valores de saída devem ser definidos com 2 casas decimais.\n",
        "\n",
        "**Exemplos de saída:**\n",
        "\n",
        "$\\Rightarrow$ Abaixo das 40 horas contratuais:\n",
        "\n",
        "`Digite o número de horas trabalhadas na semana: 25`\n",
        "\n",
        "`Digite o valor a ser recebido por hora trabalhada: 12`\n",
        "\n",
        "`O salário a ser recebido é de $300.00`\n",
        "\n",
        "$\\Rightarrow$ Acima das 40 horas contratuais:\n",
        "\n",
        "`Digite o número de horas trabalhadas na semana: 57`\n",
        "\n",
        "`Digite o valor a ser recebido por hora trabalhada: 12`\n",
        "\n",
        "`Você trabalhou 17 horas extras nessa semana. O total pelas horas extras é de $357.00`\n",
        "\n",
        "`O salário a ser recebido é de $837.00`"
      ]
    },
    {
      "cell_type": "code",
      "execution_count": null,
      "metadata": {
        "id": "GArN9lgWzTQu"
      },
      "outputs": [
        {
          "name": "stdout",
          "output_type": "stream",
          "text": [
            "Você trabalhou 17 extras nessa semana. O total pelas horas extras é de R$29.75 \n"
          ]
        }
      ],
      "source": [
        "# Exercício 02\n",
        "\n",
        "horas_trabalhadas = int(input(\"Digite o número de horas trabalhadas na semana: \"))\n",
        "valorhora = int(input(\"Digite o valor a ser recebido por horas trabalhadas: \"))\n",
        "if horas_trabalhadas < 40:\n",
        "    salario = horas_trabalhadas * valorhora\n",
        "    print(f\"O salário a ser recebido é de R${salario:.2f}\")\n",
        "else:\n",
        "    aumentohoras = horas_trabalhadas - 40\n",
        "    aumentosalario = aumentohoras * (1 + 75/100)\n",
        "    salariototal = aumentosalario + salario\n",
        "    print(f\"Você trabalhou {aumentohoras} extras nessa semana. O total pelas horas extras é de R${aumentosalario:.2f} \")"
      ]
    },
    {
      "cell_type": "markdown",
      "metadata": {
        "id": "YnRB-l7U1qX6"
      },
      "source": [
        "#**Exercício 03**\n",
        "\n",
        "**(Valor: 2,0 pts)** As escalas de temperatura *Celsius* e *Fahrenheit* são largamente empregadas no estudo de fenômenos termodinâmicos. A expressão de conversão é\n",
        "\n",
        "$$F=\\frac{9}{5}C+32,$$\n",
        "\n",
        "em que $F$ é a temperatura em graus Fahrenheit e $C$ em graus Celsius.\n",
        "\n",
        "Elabore um programa em Python que faça a conversão Celsius-Fahrenheit caso seja inserido o código $C$ ou Fahrenheit-Celsius, caso o código seja $F$.\n",
        "\n",
        "**Requerimento:**\n",
        "* Ambas as letras $c$ ou $C$ devem ser entradas válidas para a conversão Celsius-Fahrenheit;\n",
        "* Ambas as letras $f$ ou $F$ devem ser entradas válidas para a conversão Fahrenheit-Celsius;\n",
        "* Se o código de entrada for inválido, exiba a mensagem:\n",
        "`Código inválido! Por favor, digite c, C, f ou F.`\n",
        "\n",
        "**Exemplos de saída:**\n",
        "\n",
        "$\\Rightarrow$ Conversão Celsius-Fahrenheit:\n",
        "\n",
        "`Digite o código de conversão: c`\n",
        "\n",
        "`Temperatura em graus Celsius: 0`\n",
        "\n",
        "`Conversão - Temperatura em graus Fahrenheit = 32.00`\n",
        "\n",
        "$\\Rightarrow$ Conversão Fahrenhieit-Celsius:\n",
        "\n",
        "`Digite o código de conversão: F`\n",
        "\n",
        "`Temperatura em graus Fahrenheit: 70`\n",
        "\n",
        "`Conversão - Temperatura em graus Celsius = 21.11`\n",
        "\n",
        "$\\Rightarrow$ Código inválido:\n",
        "\n",
        "`Digite o código de conversão: r`\n",
        "\n",
        "`Código inválido! Por favor, digite c, C, f ou F.`"
      ]
    },
    {
      "cell_type": "code",
      "execution_count": null,
      "metadata": {
        "id": "rbBisLdA0HmN"
      },
      "outputs": [],
      "source": [
        "# Exercício 03"
      ]
    },
    {
      "cell_type": "markdown",
      "metadata": {
        "id": "t_Btgg5I1riI"
      },
      "source": [
        "#**Exercício 04**\n",
        "\n",
        "**(Valor: 2,0 pts)** Considere a lista `alunos` definida na célula a seguir:"
      ]
    },
    {
      "cell_type": "code",
      "execution_count": null,
      "metadata": {
        "id": "_GJD6yFK1rBp"
      },
      "outputs": [],
      "source": [
        "# Execute a célula!\n",
        "alunos = [['Vanessa', 'Pietro', 'Janaína', 'Gregório', 'Quitéria'],\n",
        "          [5.0, 7.5, 10.0, 6.0, 7.5]]"
      ]
    },
    {
      "cell_type": "markdown",
      "metadata": {},
      "source": [
        "A lista `alunos` é composta por duas listas:\n",
        "* a primeira contém os nomes de 5 alunos;\n",
        "* a segunda contém as notas dos respectivos alunos em uma prova final.\n",
        "\n",
        "**a)** Na célula abaixo, escreva o código para acessar o nome e a nota do quarto aluno."
      ]
    },
    {
      "cell_type": "code",
      "execution_count": null,
      "metadata": {
        "id": "Sv0IagPMg86x"
      },
      "outputs": [
        {
          "name": "stdout",
          "output_type": "stream",
          "text": [
            "Nome do quarto aluno: Gregório\n",
            "Nota do quarto aluno: 6.0\n"
          ]
        }
      ],
      "source": [
        "# Item a)\n",
        "alunos = [['Vanessa', 'Pietro', 'Janaína', 'Gregório', 'Quitéria'],\n",
        "          [5.0, 7.5, 10.0, 6.0, 7.5]]\n",
        "\n",
        "nome_quarto_aluno = alunos[0][3]\n",
        "nota_quarto_aluno = alunos[1][3]\n",
        "\n",
        "print(f\"Nome do quarto aluno: {nome_quarto_aluno}\")\n",
        "print(f\"Nota do quarto aluno: {nota_quarto_aluno}\")\n"
      ]
    },
    {
      "cell_type": "markdown",
      "metadata": {
        "id": "FDsYZMtlg-to"
      },
      "source": [
        "**b)** O aluno `Pietro` foi transferido para outra turma. Escreva o código que gera uma nova lista `alunos`, retirando o referido aluno e sua respectiva nota."
      ]
    },
    {
      "cell_type": "code",
      "execution_count": null,
      "metadata": {
        "id": "FsI2a14zhXPQ"
      },
      "outputs": [
        {
          "name": "stdout",
          "output_type": "stream",
          "text": [
            "A Lista Atualizada (Sem o pietro): \n",
            "[['Vanessa', 'Janaína', 'Gregório', 'Quitéria'], [5.0, 10.0, 6.0, 7.5]]\n"
          ]
        }
      ],
      "source": [
        "# Item b)\n",
        "alunos = [['Vanessa', 'Pietro', 'Janaína', 'Gregório', 'Quitéria'],\n",
        "          [5.0, 7.5, 10.0, 6.0, 7.5]]\n",
        "\n",
        "indice_pietro = alunos[0].index('Pietro')\n",
        "\n",
        "alunos[0].pop(indice_pietro)\n",
        "alunos[1].pop(indice_pietro)\n",
        "\n",
        "print(\"A Lista Atualizada (Sem o pietro): \")\n",
        "print(alunos)\n"
      ]
    },
    {
      "cell_type": "markdown",
      "metadata": {
        "id": "xjF8r1SThZOo"
      },
      "source": [
        "**c)** O aluno `Ricardo` entrou na turma de estudantes. Sua nota na prova final foi $8.5$. Escreva o código que insere o referido aluno e sua nota na lista `alunos`."
      ]
    },
    {
      "cell_type": "code",
      "execution_count": null,
      "metadata": {
        "id": "5--kkBFWhyn4"
      },
      "outputs": [
        {
          "name": "stdout",
          "output_type": "stream",
          "text": [
            "Lista depois de inserir o Ricardo:\n",
            "[['Vanessa', 'Janaína', 'Gregório', 'Quitéria', 'Ricardo'], [5.0, 10.0, 6.0, 7.5, 8.5]]\n"
          ]
        }
      ],
      "source": [
        "# Item c)\n",
        "\n",
        "alunos_notas = [['Vanessa', 'Janaína', 'Gregório', 'Quitéria'],\n",
        "          [5.0, 10.0, 6.0, 7.5]]\n",
        "\n",
        "alunos_notas[0].append('Ricardo')\n",
        "alunos_notas[1].append(8.5)\n",
        "\n",
        "print(\"Lista depois de inserir o Ricardo:\")\n",
        "print(alunos_notas)\n"
      ]
    },
    {
      "cell_type": "markdown",
      "metadata": {
        "id": "SqAOhr54h0Kv"
      },
      "source": [
        "**d)** Usando a lista `alunos` obtida no item anterior, calcule a média obtida na prova final.\n",
        "*IMPORTANTE:* Use os comandos `sum()`e `len()`."
      ]
    },
    {
      "cell_type": "code",
      "execution_count": null,
      "metadata": {
        "id": "xBHF7h-miNcI"
      },
      "outputs": [
        {
          "name": "stdout",
          "output_type": "stream",
          "text": [
            "Média das notas da turma é: 7.4\n"
          ]
        }
      ],
      "source": [
        "# Item d\n",
        "\n",
        "alunos = [['Vanessa', 'Janaína', 'Gregório', 'Quitéria', 'Ricardo'],\n",
        "          [5.0, 10.0, 6.0, 7.5, 8.5]]\n",
        "\n",
        "media_notas = sum(alunos[1]) / len(alunos[1])\n",
        "\n",
        "print(f\"Média das notas da turma é: {media_notas}\")\n"
      ]
    },
    {
      "cell_type": "markdown",
      "metadata": {
        "id": "RxnTs_DNiO5I"
      },
      "source": []
    },
    {
      "cell_type": "markdown",
      "metadata": {
        "id": "LxFa6LfXiSMP"
      },
      "source": [
        "#**Exercício 05**\n",
        "\n",
        "**(Valor: 2,0 pts)** Use a biblioteca `ColabTurtlePlus` para desenhar o padrão a seguir:\n",
        "\n",
        "![image.png](data:image/png;base64,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)"
      ]
    },
    {
      "cell_type": "markdown",
      "metadata": {
        "id": "NIPAR9cxkrNI"
      },
      "source": [
        "Para usar as tartarugas, execute a célula:"
      ]
    },
    {
      "cell_type": "code",
      "execution_count": 21,
      "metadata": {
        "id": "N7q98oebkwaQ"
      },
      "outputs": [
        {
          "name": "stderr",
          "output_type": "stream",
          "text": [
            "'pip' n�o � reconhecido como um comando interno\n",
            "ou externo, um programa oper�vel ou um arquivo em lotes.\n"
          ]
        }
      ],
      "source": [
        "!pip install ColabTurtlePlus"
      ]
    },
    {
      "cell_type": "markdown",
      "metadata": {
        "id": "7azjnPwEjURZ"
      },
      "source": [
        "* O quadrado e o círculo estão centrados na tela, que tem dimensões $2\\cdot\\text{LADO x }2\\cdot\\text{LADO}$ *pixels* ;\n",
        "* O lado do quadrado mede $\\text{LADO}$ *pixels* ;\n",
        "* O raio do círculo mede $\\text{LADO}$ *pixels*.\n",
        "\n",
        "Use a célula de código a seguir, em que já estão definidas certas constantes e criada a tela de desenho."
      ]
    },
    {
      "cell_type": "code",
      "execution_count": null,
      "metadata": {
        "id": "GIpo7kdBkk5v"
      },
      "outputs": [],
      "source": [
        "# Exercício 05\n",
        "from ColabTurtlePlus.Turtle import *\n",
        "\n",
        "# Constantes\n",
        "LADO = 200            # Lado da \"janela\" (canvas)\n",
        "VELOCIDADE = 7        # Escala de 1 a 13\n",
        "\n",
        "# Criação do canvas\n",
        "clearscreen()             # Limpa a tela da execução anterior\n",
        "setup(2*LADO, 2*LADO)     # Tamanho da janela\n",
        "bgcolor('white')          # Cor de fundo da tela\n",
        "showborder()              # Mostra a borda\n",
        "\n",
        "##### INSIRA O SEU CÓDIGO #####\n",
        "\n"
      ]
    }
  ],
  "metadata": {
    "colab": {
      "provenance": []
    },
    "kernelspec": {
      "display_name": "Python 3",
      "name": "python3"
    },
    "language_info": {
      "codemirror_mode": {
        "name": "ipython",
        "version": 3
      },
      "file_extension": ".py",
      "mimetype": "text/x-python",
      "name": "python",
      "nbconvert_exporter": "python",
      "pygments_lexer": "ipython3",
      "version": "3.13.2"
    }
  },
  "nbformat": 4,
  "nbformat_minor": 0
}
