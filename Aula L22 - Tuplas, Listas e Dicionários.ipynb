{
  "cells": [
    {
      "cell_type": "markdown",
      "metadata": {
        "id": "bNJLG_vRfac8"
      },
      "source": [
        "#**TTI103 - Lógica de Programação**\n",
        "\n",
        "#**Aula L25 - Tuplas, Listas e Dicionários**"
      ]
    },
    {
      "cell_type": "markdown",
      "metadata": {
        "id": "BM0r2iWwfh2B"
      },
      "source": [
        "#**Exercício - Lista de materiais de papelaria**\n",
        "\n",
        "Construa um programa que gerencie uma lista de materiais de papelaria vendidos por um pequeno bazar de vila. Os materiais serão armazenados em uma lista de dicionários. Em cada dicionário:\n",
        "\n",
        "* a chave `material` mapeia uma tupla cujo primeiro elemento é a identificação (nome) do material e o segundo elemento é o respectivo código (número inteiro de 4 dígitos);\n",
        "* a chave `preco` mapeia o preço unitário do material (número real);\n",
        "* a chave `quant` mapeia a quantidade do item disponível na loja (número inteiro).\n",
        "\n",
        "Como base, utilize a lista de materiais a seguir:"
      ]
    },
    {
      "cell_type": "code",
      "execution_count": 1,
      "metadata": {
        "id": "F3VwZKSpDfE9"
      },
      "outputs": [],
      "source": [
        "# Lista de materiais\n",
        "global materiais\n",
        "materiais = [\n",
        "    {\"material\": (\"caderno\", 1001), \"preco\": 12.50, \"quant\": 20},\n",
        "    {\"material\": (\"caneta azul\", 1002), \"preco\": 2.00, \"quant\": 100},\n",
        "    {\"material\": (\"caneta preta\", 1003), \"preco\": 2.00, \"quant\": 95},\n",
        "    {\"material\": (\"lápis\", 1004), \"preco\": 1.50, \"quant\": 150},\n",
        "    {\"material\": (\"borracha\", 1005), \"preco\": 1.20, \"quant\": 80},\n",
        "    {\"material\": (\"apontador\", 1006), \"preco\": 2.50, \"quant\": 60},\n",
        "    {\"material\": (\"tesoura\", 1007), \"preco\": 5.00, \"quant\": 35},\n",
        "    {\"material\": (\"cola branca\", 1008), \"preco\": 4.30, \"quant\": 40},\n",
        "    {\"material\": (\"régua 30cm\", 1009), \"preco\": 3.00, \"quant\": 50},\n",
        "    {\"material\": (\"marca-texto\", 1010), \"preco\": 3.80, \"quant\": 45},\n",
        "    {\"material\": (\"corretivo\", 1011), \"preco\": 3.20, \"quant\": 25},\n",
        "    {\"material\": (\"grampeador\", 1012), \"preco\": 12.90, \"quant\": 15},\n",
        "    {\"material\": (\"folhas A4 (pacote)\", 1013), \"preco\": 22.00, \"quant\": 30},\n",
        "    {\"material\": (\"pincel\", 1014), \"preco\": 3.70, \"quant\": 20},\n",
        "    {\"material\": (\"tinta guache\", 1015), \"preco\": 6.50, \"quant\": 18}\n",
        "]"
      ]
    },
    {
      "cell_type": "markdown",
      "metadata": {
        "id": "uHg5HVryhc0j"
      },
      "source": [
        "**a)** Construa a função `insere_material` que inclui um novo item na lista de materiais. Caso o item já esteja presente na lista, a função deve informar essa ocorrência ao usuário e solicitar a digitação de um novo material."
      ]
    },
    {
      "cell_type": "code",
      "execution_count": 1,
      "metadata": {
        "id": "NxYdTIStEmy5"
      },
      "outputs": [],
      "source": [
        "# Função insere_material\n",
        "def insere_material():\n",
        "    global materiais\n",
        "    nome = input(\"Digite o nome do material: \")\n",
        "    codigo = int(input(\"Digite o código do material:\")) \n",
        "    preco = float(input(\"Digite o preço do material:\"))\n",
        "    quantidade = int(input(\"Digite a quantidade do material: \"))\n",
        "\n",
        "    for material in materiais:\n",
        "        if material [\"material\"][1] == codigo:\n",
        "            print(\"Código já cadastrado.\")\n",
        "            return f\"Código {codigo} já cadastrado.\"\n",
        "        else:\n",
        "            materiais.append({\"material\": (nome, codigo), \"preco\": preco, \"quant\": quantidade})\n",
        "            return f\"Material {nome} adicionado com sucesso.\"\n",
        "    "
      ]
    },
    {
      "cell_type": "code",
      "execution_count": null,
      "metadata": {
        "id": "SlZqnCwyNyN2"
      },
      "outputs": [],
      "source": [
        "# Teste 01 - Tentar a inserção do material 'corretivo', já existente\n",
        "# Teste 02 - Incluir o material 'caderno brochura', ainda não presente na lista\n",
        "# - Use código 1016, preço unitário de 19.90 e quantidade disponível 50 unidades\n",
        "insere_material()"
      ]
    },
    {
      "cell_type": "markdown",
      "metadata": {
        "id": "gXcIiKIDiZlI"
      },
      "source": [
        "**b)** Construa a função `cadastrar` que realiza o cadastro de múltiplos materiais. Após a inserção de um novo item, a função deve perguntar ao usuário se deseja cadastrar um novo item. O processo de cadastro termina quando o usuário responde que não há mais itens para inserir."
      ]
    },
    {
      "cell_type": "code",
      "execution_count": 7,
      "metadata": {
        "id": "rLq73fTyFtw4"
      },
      "outputs": [],
      "source": [
        "# Função cadastrar\n",
        "def cadastrar():\n",
        "  while True:\n",
        "    print(\"\\nMenu de Cadastro de Materiais\")\n",
        "    print(\"1. Inserir material\")\n",
        "    print(\"2. Sair\")\n",
        "    opcao = input(\"Escolha uma opção: \")\n",
        "\n",
        "    if opcao == \"1\":\n",
        "        resultado = insere_material()\n",
        "        print(resultado)\n",
        "    elif opcao == \"2\":\n",
        "        print(\"Saindo do menu.\")\n",
        "        break\n",
        "    else:\n",
        "        print(\"Opção inválida, tente novamente.\")"
      ]
    },
    {
      "cell_type": "code",
      "execution_count": 8,
      "metadata": {
        "id": "uQRyy9SKGU6_"
      },
      "outputs": [
        {
          "name": "stdout",
          "output_type": "stream",
          "text": [
            "\n",
            "Menu de Cadastro de Materiais\n",
            "1. Inserir material\n",
            "2. Sair\n",
            "Material caderno universitário capa dura adicionado com sucesso.\n",
            "\n",
            "Menu de Cadastro de Materiais\n",
            "1. Inserir material\n",
            "2. Sair\n",
            "Material lápis de cor - 24 cores adicionado com sucesso.\n",
            "\n",
            "Menu de Cadastro de Materiais\n",
            "1. Inserir material\n",
            "2. Sair\n",
            "Saindo do menu.\n",
            "{'material': ('caderno', 1001), 'preco': 12.5, 'quant': 20}\n",
            "{'material': ('caneta azul', 1002), 'preco': 2.0, 'quant': 100}\n",
            "{'material': ('caneta preta', 1003), 'preco': 2.0, 'quant': 95}\n",
            "{'material': ('lápis', 1004), 'preco': 1.5, 'quant': 150}\n",
            "{'material': ('borracha', 1005), 'preco': 1.2, 'quant': 80}\n",
            "{'material': ('apontador', 1006), 'preco': 2.5, 'quant': 60}\n",
            "{'material': ('tesoura', 1007), 'preco': 5.0, 'quant': 35}\n",
            "{'material': ('cola branca', 1008), 'preco': 4.3, 'quant': 40}\n",
            "{'material': ('régua 30cm', 1009), 'preco': 3.0, 'quant': 50}\n",
            "{'material': ('marca-texto', 1010), 'preco': 3.8, 'quant': 45}\n",
            "{'material': ('corretivo', 1011), 'preco': 3.2, 'quant': 25}\n",
            "{'material': ('grampeador', 1012), 'preco': 12.9, 'quant': 15}\n",
            "{'material': ('folhas A4 (pacote)', 1013), 'preco': 22.0, 'quant': 30}\n",
            "{'material': ('pincel', 1014), 'preco': 3.7, 'quant': 20}\n",
            "{'material': ('tinta guache', 1015), 'preco': 6.5, 'quant': 18}\n",
            "{'material': ('caderno universitário capa dura', 1017), 'preco': 30.0, 'quant': 12}\n",
            "{'material': ('lápis de cor - 24 cores', 1018), 'preco': 28.9, 'quant': 15}\n"
          ]
        }
      ],
      "source": [
        "# Teste 01 - Inserir 'caderno universitário capa dura', código 1017, preço 30.00, 12 itens\n",
        "# Teste 02 - lápis de cor - 24 cores, código 1018, preço 28.90, 15 itens.'''\n",
        "cadastrar()\n",
        "for mat in materiais:\n",
        "  print(mat)"
      ]
    },
    {
      "cell_type": "markdown",
      "metadata": {
        "id": "s2Uqu32unw-X"
      },
      "source": [
        "**c)** Construa a função `consulta`, que recebe o nome de um material e, caso esteja presente na lista de materiais, exiba suas informações. Caso o item não esteja cadastrado, a função deve informar essa ocorrência ao usuário. Execute a célula de teste para verificar o funcionamento da função."
      ]
    },
    {
      "cell_type": "code",
      "execution_count": 9,
      "metadata": {
        "id": "Em13YmTVIVFk"
      },
      "outputs": [],
      "source": [
        "# Função consulta\n",
        "def consulta(nome):\n",
        " nome_materiais = [material[\"material\"][0] for material in materiais]\n",
        " if nome in nome_materiais:\n",
        "  loc = materiais[nome_materiais.index(nome)]\n",
        "  print(f\"Item pesquisado: {nome}\")\n",
        "  print(f\"Código = {loc['material'][1]}\")\n",
        "  print(f\"Preço = R$ {loc['preco']:.2f}\")\n",
        "  print(f\"Quantidade disponível = {loc['quant']}\")\n",
        " else: \n",
        "  print(f\"O item '{nome}' não foi encontrado na lista.\")\n"
      ]
    },
    {
      "cell_type": "code",
      "execution_count": 10,
      "metadata": {
        "id": "fIULjHVBMU5V"
      },
      "outputs": [
        {
          "name": "stdout",
          "output_type": "stream",
          "text": [
            "O item 'apontador com depósito' não foi encontrado na lista.\n",
            "Item pesquisado: caderno universitário capa dura\n",
            "Código = 1017\n",
            "Preço = R$ 30.00\n",
            "Quantidade disponível = 12\n",
            "Item pesquisado: régua 30cm\n",
            "Código = 1009\n",
            "Preço = R$ 3.00\n",
            "Quantidade disponível = 50\n"
          ]
        }
      ],
      "source": [
        "# Teste 01\n",
        "consulta('apontador com depósito')\n",
        "# Teste 02\n",
        "consulta('caderno universitário capa dura')\n",
        "# Teste 03\n",
        "consulta('régua 30cm')"
      ]
    },
    {
      "cell_type": "markdown",
      "metadata": {
        "id": "GAZdHJdo8nAe"
      },
      "source": [
        "**d)** Elabore a função `atualizacao` que recebe o código do produto, identifica o item e solicita ao usuário se deseja atualizar o preço ou a quantidade disponível. Caso o código não esteja presente na lista de materiais, a função deve retornar a mensagem `Código inválido!`."
      ]
    },
    {
      "cell_type": "code",
      "execution_count": null,
      "metadata": {
        "id": "PVMiHCTWphpP"
      },
      "outputs": [],
      "source": [
        "# Função atualizaçao\n",
        "def atualizacao(cod):\n",
        "  cod_materiais = [material[\"material\"][1] for material in materiais]\n",
        "  if cod in cod_materiais:\n",
        "    material = materiais.pop(cod_materiais.index(cod))\n",
        "    print(f\"Item {material['material']} encontrado.\")\n",
        "    opcao = input(\"Deseja atualizar o preço (1) ou a quantidade (2)? \").strip().upper()\n",
        "    if opcao == \"1\":\n",
        "        material[\"preco\"] = float(input(\"Digite o novo preço: \"))\n",
        "    elif opcao == \"2\":\n",
        "        material[\"quant\"] = int(input(\"Digite a nova quantidade: \"))\n",
        "    materiais.append(material)\n",
        "    print(f\"Item {material['material'][0]} atualizado com sucesso.\")\n",
        "  else:\n",
        "     print(f\"Item com código {cod} não encontrado.\")"
      ]
    },
    {
      "cell_type": "code",
      "execution_count": 20,
      "metadata": {
        "id": "fGpVwk-IABSB"
      },
      "outputs": [
        {
          "name": "stdout",
          "output_type": "stream",
          "text": [
            "Código não encontrado.\n",
            "Item ('folhas A4 (pacote)', 1013) encontrado.\n",
            "Código não encontrado.\n",
            "\n",
            "{'material': ('caderno', 1001), 'preco': 12.5, 'quant': 20}\n",
            "{'material': ('caneta azul', 1002), 'preco': 2.0, 'quant': 100}\n",
            "{'material': ('caneta preta', 1003), 'preco': 2.0, 'quant': 95}\n",
            "{'material': ('lápis', 1004), 'preco': 1.5, 'quant': 150}\n",
            "{'material': ('borracha', 1005), 'preco': 1.2, 'quant': 80}\n",
            "{'material': ('apontador', 1006), 'preco': 2.5, 'quant': 60}\n",
            "{'material': ('tesoura', 1007), 'preco': 5.0, 'quant': 35}\n",
            "{'material': ('régua 30cm', 1009), 'preco': 3.0, 'quant': 50}\n",
            "{'material': ('marca-texto', 1010), 'preco': 3.8, 'quant': 45}\n",
            "{'material': ('corretivo', 1011), 'preco': 3.2, 'quant': 25}\n",
            "{'material': ('grampeador', 1012), 'preco': 12.9, 'quant': 15}\n",
            "{'material': ('pincel', 1014), 'preco': 3.7, 'quant': 20}\n",
            "{'material': ('tinta guache', 1015), 'preco': 6.5, 'quant': 18}\n",
            "{'material': ('caderno universitário capa dura', 1017), 'preco': 30.0, 'quant': 12}\n",
            "{'material': ('lápis de cor - 24 cores', 1018), 'preco': 28.9, 'quant': 15}\n",
            "{'material': ('folhas A4 (pacote)', 1013), 'preco': 54.5, 'quant': 10}\n"
          ]
        }
      ],
      "source": [
        "# Teste 01 - Atualizar a quantidade do item \"cola branca\" para 100 unidades\n",
        "atualizacao(1008)\n",
        "# Teste 02 - Atualizar o preço do item \"folhas A4 (pacote)\" para 54.50\n",
        "atualizacao(1013)\n",
        "# Teste 03 - Item não existente\n",
        "atualizacao(1523)\n",
        "# Lista de materiais atualizada\n",
        "print('')\n",
        "for mat in materiais:\n",
        "  print(mat)"
      ]
    },
    {
      "cell_type": "markdown",
      "metadata": {
        "id": "s63DEcFpBCvX"
      },
      "source": [
        "**e)** Construa a função `valor_estoque` que calcula o valor atual do estoque disponível na loja."
      ]
    },
    {
      "cell_type": "code",
      "execution_count": null,
      "metadata": {
        "id": "gNBETRjVprnG"
      },
      "outputs": [],
      "source": [
        "# Função valor_estoque\n",
        "def valor_estoque():\n",
        "  pass"
      ]
    },
    {
      "cell_type": "code",
      "execution_count": null,
      "metadata": {
        "id": "7g0MeFVACeJk"
      },
      "outputs": [],
      "source": [
        "# Teste da função valor_estoque\n",
        "valor = valor_estoque()\n",
        "print(f'Estoque atual: {valor:.2f}')"
      ]
    }
  ],
  "metadata": {
    "colab": {
      "provenance": []
    },
    "kernelspec": {
      "display_name": "Python 3",
      "name": "python3"
    },
    "language_info": {
      "codemirror_mode": {
        "name": "ipython",
        "version": 3
      },
      "file_extension": ".py",
      "mimetype": "text/x-python",
      "name": "python",
      "nbconvert_exporter": "python",
      "pygments_lexer": "ipython3",
      "version": "3.13.3"
    }
  },
  "nbformat": 4,
  "nbformat_minor": 0
}
