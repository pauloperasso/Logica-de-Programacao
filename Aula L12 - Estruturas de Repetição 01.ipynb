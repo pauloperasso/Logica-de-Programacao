{
  "cells": [
    {
      "cell_type": "markdown",
      "metadata": {
        "id": "oNAE5ZPfjt3g"
      },
      "source": [
        "#**TTI103 - Lógica de Programação**\n",
        "\n",
        "#**Aula L12 - Estruturas de Repetição 01**"
      ]
    },
    {
      "cell_type": "markdown",
      "metadata": {
        "id": "kahb9Oa-G6OF"
      },
      "source": [
        "#**Estruturas de repetição no Python**\n",
        "\n",
        "* Estrutura Enquanto-Faça: no Python, é implementada pela instrução `while` e possui a seguinte sintaxe:"
      ]
    },
    {
      "cell_type": "code",
      "execution_count": null,
      "metadata": {
        "id": "ahmYsSzGoYXT"
      },
      "outputs": [],
      "source": [
        "# Estrutura Enquanto-Faça\n",
        "while <condição>:\n",
        "  <comandos a serem repetidos>"
      ]
    },
    {
      "cell_type": "markdown",
      "metadata": {
        "id": "jzFoqxDTqEoM"
      },
      "source": [
        "* Estrutura Para-até-Faça: no Python, é implementada pelo comando `for`. Em algumas linguagens de programação como C e Java, o\n",
        "comando `for` é utilizado em conjunto com uma variável do tipo inteiro (ou outra enumerável), que funciona como um contador que controla a quantidade de vezes que o laço será repetido. No Python, o comando `for` só funciona com tipos de dados que permitem iterações (chamados iteráveis) e o tipo inteiro não possui essa característica. Assim, a sintaxe do comando `for` em Python tem a forma:\n"
      ]
    },
    {
      "cell_type": "code",
      "execution_count": null,
      "metadata": {
        "id": "YobZcwikollk"
      },
      "outputs": [],
      "source": [
        "for <item> in <conjunto de itens>:\n",
        "  <comandos a serem repetidos>"
      ]
    },
    {
      "cell_type": "markdown",
      "metadata": {
        "id": "xAvp_AHNKrMb"
      },
      "source": [
        "#**Laços para percorrer os elementos de uma lista**\n",
        "\n",
        "Para ilustrar as formas mais usuais de percorrer os elementos de uma lista, vamos utilizar a lista que contém os anos de obtenção das cinco conquistas do Brasil em Copas do Mundo de Futebol até o momento (já usada na Aula L9)."
      ]
    },
    {
      "cell_type": "code",
      "execution_count": 7,
      "metadata": {
        "id": "njI5JPw1qFe9"
      },
      "outputs": [
        {
          "name": "stdout",
          "output_type": "stream",
          "text": [
            "['1958, 1962, 1970, 1994, 2002']\n"
          ]
        }
      ],
      "source": [
        "anos_conquistas = [\"1958, 1962, 1970, 1994, 2002\"]\n",
        "print(anos_conquistas)"
      ]
    },
    {
      "cell_type": "markdown",
      "metadata": {
        "id": "N8LfEuRuqTYT"
      },
      "source": [
        "Como já sabemos, é possível usar uma variável inteira para indicar a posição do elemento na lista. Assim, podemos usar a seguinte construção com a estrutura `while`para percorrer os elementos da lista `anos_conquistas`:"
      ]
    },
    {
      "cell_type": "code",
      "execution_count": 3,
      "metadata": {
        "id": "3a6c9vxfqzHk"
      },
      "outputs": [
        {
          "name": "stdout",
          "output_type": "stream",
          "text": [
            "1958\n",
            "1962\n",
            "1970\n",
            "1994\n",
            "2002\n"
          ]
        }
      ],
      "source": [
        "i = 0\n",
        "while i < len(anos_conquistas):\n",
        "  print(anos_conquistas[i])\n",
        "  i += 1"
      ]
    },
    {
      "cell_type": "markdown",
      "metadata": {
        "id": "Z4yaQTA-rFp8"
      },
      "source": [
        "Na célula acima, observe que a variável `i` recebe o valor zero que corresponde ao primeiro índice e, enquanto o índice for menor que o comprimento da lista (`= len(anos_conquistas)`), o elemento de índice `i` é impresso.\n",
        "\n",
        "Se optarmos por usar a estrutura `for`, podemos usar a sintaxe:"
      ]
    },
    {
      "cell_type": "code",
      "execution_count": 12,
      "metadata": {
        "id": "DpV7auuXu4xQ"
      },
      "outputs": [
        {
          "name": "stdout",
          "output_type": "stream",
          "text": [
            "1958, 1962, 1970, 1994, 2002\n"
          ]
        }
      ],
      "source": [
        "for _ in range(len(anos_conquistas)):\n",
        "  print(anos_conquistas[_])"
      ]
    },
    {
      "cell_type": "markdown",
      "metadata": {
        "id": "jYbkj4wtvCSE"
      },
      "source": [
        "A série retornada pelo comando `range(len(lista))` é um objeto iterável do tipo `range` e os elementos nela contidos serão gerados sob demanda durante o for, evitando o desperdício de memória.\n",
        "\n",
        "Além disso, note que não há a necessidade de:\n",
        "\n",
        "* inicializar o valor da variável de índice `i` (com `while`, foi preciso usar `i = 0` antes da estrutura de repetição);\n",
        "\n",
        "* atualizar o valor da variável de índice `i` (com `while`, foi preciso usar `i += 1` dentro da estrutura de repetição).\n",
        "\n",
        "O Python possui ainda uma segunda sintaxe mais compacta que pode ser empregada para acessar diretamente os elementos de uma lista sem mencionar explicitamente os seus índices."
      ]
    },
    {
      "cell_type": "code",
      "execution_count": 13,
      "metadata": {
        "id": "XHyuikVfw-z_"
      },
      "outputs": [
        {
          "name": "stdout",
          "output_type": "stream",
          "text": [
            "1958, 1962, 1970, 1994, 2002\n"
          ]
        }
      ],
      "source": [
        "for conquista in anos_conquistas:\n",
        "  print(conquista)"
      ]
    },
    {
      "cell_type": "markdown",
      "metadata": {
        "id": "OEpCn6S3sLls"
      },
      "source": [
        "#**Exercício 01**\n",
        "\n",
        "Elabore um programa Python que exiba todos os números pares entre zero e um número `N` fornecido pelo usuário.\n",
        "\n",
        "**Requisito:** Certifique-se de que o usuário tenha digitado um número positivo, inteiro ou real. Pense em qual caso engloba o outro!"
      ]
    },
    {
      "cell_type": "code",
      "execution_count": 14,
      "metadata": {
        "id": "hzNxMzS3z9cX"
      },
      "outputs": [
        {
          "name": "stdout",
          "output_type": "stream",
          "text": [
            "[0, 2, 4, 6, 8, 10, 12, 14, 16, 18]\n"
          ]
        }
      ],
      "source": [
        "#Outra solução usando listas\n",
        "\n",
        "N = 18.9\n",
        "pares = [i for i in range(0, int(N) + 1, 2)]\n",
        "print(pares)\n"
      ]
    },
    {
      "cell_type": "code",
      "execution_count": 22,
      "metadata": {},
      "outputs": [
        {
          "name": "stdout",
          "output_type": "stream",
          "text": [
            "[0, 2, 4, 6, 8, 10, 12, 14]\n"
          ]
        }
      ],
      "source": [
        "# Exercício 01\n",
        "\n",
        "#Solução usando listas\n",
        "N = 14\n",
        "pares = []\n",
        "for i in range(0, int(N) + 1,2):\n",
        "    pares.append(i)\n",
        "print(pares)"
      ]
    },
    {
      "cell_type": "code",
      "execution_count": 19,
      "metadata": {},
      "outputs": [
        {
          "name": "stdout",
          "output_type": "stream",
          "text": [
            "Números pares entre 0 e 31:\n",
            "0\n",
            "2\n",
            "4\n",
            "6\n",
            "8\n",
            "10\n",
            "12\n",
            "14\n",
            "16\n",
            "18\n",
            "20\n",
            "22\n",
            "24\n",
            "26\n",
            "28\n",
            "30\n"
          ]
        }
      ],
      "source": [
        "ok = False\n",
        "\n",
        "while not ok:\n",
        "    try:\n",
        "        N = float(input(\"Digite um número positivo: \"))\n",
        "        if N > 0:\n",
        "            ok = True\n",
        "        else:\n",
        "            print(\"Erro: número não é positivo.\")\n",
        "    except:\n",
        "        print(\"Erro: entrada inválida, digite um número.\")\n",
        "\n",
        "print(f\"Números pares entre 0 e {int(N)}:\")\n",
        "par = 0\n",
        "while par <= N:\n",
        "    print(par)\n",
        "    par += 2"
      ]
    },
    {
      "cell_type": "markdown",
      "metadata": {
        "id": "KaEOD61l1HCQ"
      },
      "source": [
        "#**Exercício 02**\n",
        "\n",
        "Elabore um programa Python que calcule e exiba o valor da série $S$ a partir de $x$ e $n$ fornecidos pelo usuário:\n",
        "\n",
        "$$S=\\ln x+x+\\frac{x^2}{2}+\\frac{x^3}{3}+\\cdots+\\frac{x^n}{n}$$\n",
        "\n",
        "**Requisitos:**\n",
        "* Uma vez que a série envolve a função $\\ln x$, devems garantir que $x>0$.\n",
        "* $n$ é um inteiro positivo. Assim, ainda que o usuário tenha fornecido um valor real, o programa deve convertê-lo para o tipo inteiro, usando o comando `int()`.\n",
        "* O valor da série deve ser exibido com precisão de três casas decimais.\n",
        "\n"
      ]
    },
    {
      "cell_type": "code",
      "execution_count": null,
      "metadata": {
        "id": "W8GqssGp2vNg"
      },
      "outputs": [],
      "source": [
        "# Exercício 02"
      ]
    },
    {
      "cell_type": "markdown",
      "metadata": {
        "id": "o-Jj_zylXNnN"
      },
      "source": [
        "Para ajudar na resolução do próximo exercício, vamos empregar a função `choice` do módulo `random`. Essa função escolhe (pseudo)aleatoriamente um elemento de uma lista à cada execução. Veja um exemplo de uso da função na célula a seguir. Execute-o algumas vezes!"
      ]
    },
    {
      "cell_type": "code",
      "execution_count": 38,
      "metadata": {
        "id": "EBQUDoZIX_lf"
      },
      "outputs": [
        {
          "name": "stdout",
          "output_type": "stream",
          "text": [
            "1° escolha = cereja\n",
            "2° escolha = maçã\n",
            "3° escolha = cereja\n",
            "4° escolha = banana\n",
            "5° escolha = maçã\n",
            "6° escolha = banana\n",
            "7° escolha = maçã\n",
            "8° escolha = maçã\n",
            "9° escolha = banana\n",
            "10° escolha = cereja\n"
          ]
        }
      ],
      "source": [
        "from random import choice\n",
        "\n",
        "frutas = ['maçã', 'banana', 'cereja']\n",
        "for numero_escolha in range(10):\n",
        "  print(f'{numero_escolha+1}° escolha = {choice(frutas)}')\n"
      ]
    },
    {
      "cell_type": "markdown",
      "metadata": {
        "id": "Aai71pygahp-"
      },
      "source": [
        "Também será útil empregar o método `count` das listas Python. O método retorna o número de ocorrências de determinado elemento em uma lista. Veja o exemplo a seguir."
      ]
    },
    {
      "cell_type": "code",
      "execution_count": 39,
      "metadata": {
        "id": "QCIfYUEobC4u"
      },
      "outputs": [
        {
          "name": "stdout",
          "output_type": "stream",
          "text": [
            "O número 3 aparece na lista_num 4 vezes.\n",
            "O número 0 aparece na lista_num 1 vezes.\n",
            "O número 5 aparece na lista_num 3 vezes.\n"
          ]
        }
      ],
      "source": [
        "lista_num = [3, 2, 3, 3, -1, 0, 3, 4, 5, 5, 5]\n",
        "print(f'O número 3 aparece na lista_num {lista_num.count(3)} vezes.')\n",
        "print(f'O número 0 aparece na lista_num {lista_num.count(0)} vezes.')\n",
        "print(f'O número 5 aparece na lista_num {lista_num.count(5)} vezes.')"
      ]
    },
    {
      "cell_type": "markdown",
      "metadata": {
        "id": "CtoqrTEm5RNR"
      },
      "source": [
        "#**Exercício 03**\n",
        "\n",
        "Elabore um programa Python para gerenciar uma eleição. Os votos válidos são representados pelos números 1, 2 e 3, cada um correspondendo a um candidato. O voto em branco é representado pelo número 0 e o voto nulo, pelo número –1. O fluxograma deverá processar $N$ respostas da votação, calcular e exibir:\n",
        "\n",
        "**a)** o total de votos para cada candidato;\n",
        "\n",
        "**b)** o total de votos em branco;\n",
        "\n",
        "**c)** o total de votos nulos;\n",
        "\n",
        "**d)** a porcentagem de votos válidos do candidato vencedor.\n",
        "\n",
        "**Requisitos:**\n",
        "* Use uma estrutura de repetição em conjunto com a função `choice` para gerar uma lista com os $N$ votos.\n",
        "* Use o método `count` para totalizar os votos.\n"
      ]
    },
    {
      "cell_type": "code",
      "execution_count": null,
      "metadata": {
        "id": "_Ekm8QpcXKMF"
      },
      "outputs": [
        {
          "name": "stdout",
          "output_type": "stream",
          "text": [
            "Resultado da apuração: \n",
            "Candidato 1: 1816.\n",
            "Candidato 2: 1857.\n",
            "Candidato 3: 1778.\n",
            "O candidato 2 venceu a eleição.\n"
          ]
        }
      ],
      "source": [
        "# Exercício 03\n",
        "\n",
        "from random import choice\n",
        "\n",
        "#Entrada do número de votos:\n",
        "\n",
        "N = int(input(\"Digite o número de votos a serem processados: \"))\n",
        "\n",
        "#Geração dos votos\n",
        "escolhas = [-1,0,1,2,3]\n",
        "votos = [choice(escolhas) for _ in range(N)]\n",
        "\n",
        "#Contagem dos votos\n",
        "contagem = [votos.count(escolha) for escolha in escolhas]\n",
        "\n",
        "#Resultados\n",
        "print(f\"Resultado da apuração: \")\n",
        "for cand, votos in zip(escolhas[2: ], contagem [2: ]):\n",
        "    print(f\"Candidato {cand}: {votos}.\")\n",
        "\n",
        "#Vencedor\n",
        "votos_validos = contagem[1: ]\n",
        "vencedor = votos_validos.index(max(votos_validos))\n",
        "print(f\"O candidato {vencedor} venceu a eleição.\")"
      ]
    },
    {
      "cell_type": "markdown",
      "metadata": {
        "id": "rBgjlHNtk9JU"
      },
      "source": [
        "O próximo exercício vai usar o módulo `Turtle`. Para isso, instale-o executando a célula a seguir."
      ]
    },
    {
      "cell_type": "code",
      "execution_count": 53,
      "metadata": {
        "id": "nj0iBrwLlD5d"
      },
      "outputs": [
        {
          "name": "stderr",
          "output_type": "stream",
          "text": [
            "'pip' n�o � reconhecido como um comando interno\n",
            "ou externo, um programa oper�vel ou um arquivo em lotes.\n"
          ]
        },
        {
          "ename": "ModuleNotFoundError",
          "evalue": "No module named 'ColabTurtlePlus'",
          "output_type": "error",
          "traceback": [
            "\u001b[31m---------------------------------------------------------------------------\u001b[39m",
            "\u001b[31mModuleNotFoundError\u001b[39m                       Traceback (most recent call last)",
            "\u001b[36mCell\u001b[39m\u001b[36m \u001b[39m\u001b[32mIn[53]\u001b[39m\u001b[32m, line 2\u001b[39m\n\u001b[32m      1\u001b[39m get_ipython().system(\u001b[33m'\u001b[39m\u001b[33mpip install ColabTurtlePlus\u001b[39m\u001b[33m'\u001b[39m)\n\u001b[32m----> \u001b[39m\u001b[32m2\u001b[39m \u001b[38;5;28;01mfrom\u001b[39;00m\u001b[38;5;250m \u001b[39m\u001b[34;01mColabTurtlePlus\u001b[39;00m\u001b[34;01m.\u001b[39;00m\u001b[34;01mTurtle\u001b[39;00m\u001b[38;5;250m \u001b[39m\u001b[38;5;28;01mimport\u001b[39;00m *\n",
            "\u001b[31mModuleNotFoundError\u001b[39m: No module named 'ColabTurtlePlus'"
          ]
        }
      ],
      "source": [
        "!pip install ColabTurtlePlus\n",
        "from ColabTurtlePlus.Turtle import *"
      ]
    },
    {
      "cell_type": "markdown",
      "metadata": {
        "id": "n7c-z0Fokg2F"
      },
      "source": [
        "#**Exercício 04**\n",
        "\n",
        "Elabore um programa Python que faça com que Leonardo, Michelangelo, Donatelo e Rafael disputem um corrida! No início, as tartarugas devem se posicionar no extremo esquerdo da tela e então percorrer distâncias sorteadas aleatoriamente entre os inteiros 1 e 10. A tartaruga que chegar primeiro atingie o extremo direito da janela vence! Nesse instante, o programa deve encerrar os sorteios."
      ]
    },
    {
      "cell_type": "code",
      "execution_count": null,
      "metadata": {
        "id": "-qbkHq-NmOB0"
      },
      "outputs": [],
      "source": [
        "# Exercício 04\n",
        "\n"
      ]
    }
  ],
  "metadata": {
    "colab": {
      "provenance": []
    },
    "kernelspec": {
      "display_name": "Python 3",
      "name": "python3"
    },
    "language_info": {
      "codemirror_mode": {
        "name": "ipython",
        "version": 3
      },
      "file_extension": ".py",
      "mimetype": "text/x-python",
      "name": "python",
      "nbconvert_exporter": "python",
      "pygments_lexer": "ipython3",
      "version": "3.13.3"
    }
  },
  "nbformat": 4,
  "nbformat_minor": 0
}
