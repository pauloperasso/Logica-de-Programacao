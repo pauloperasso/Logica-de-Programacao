{
  "cells": [
    {
      "cell_type": "markdown",
      "metadata": {
        "id": "PDPL77ECcuyT"
      },
      "source": [
        "#**TTI103 - Lógica de Programação**\n",
        "\n",
        "#**Aula L21 - Recursividade**"
      ]
    },
    {
      "cell_type": "markdown",
      "metadata": {
        "id": "lDV-TDlVUCFw"
      },
      "source": [
        "#**Exercício 01 – Multiplicação Recursiva**\n",
        "\n",
        "Elabore uma função recursiva que recebe dois parâmetros `x` e `y` (assuma valores maiores ou iguais a zero). A função deve retornar o valor de `x` multiplicado por `y`.\n",
        "\n",
        "Lembre-se que a multiplicação pode ser realizada por meio de adições sequenciais.\n",
        "\n",
        "Veja um exemplo:\n",
        "\n",
        "`7 × 4 = 4 + 4 + 4 + 4 + 4 + 4 + 4`\n"
      ]
    },
    {
      "cell_type": "code",
      "execution_count": 1,
      "metadata": {
        "id": "WII83vQlUhx6"
      },
      "outputs": [
        {
          "name": "stdout",
          "output_type": "stream",
          "text": [
            "-- Multiplicação recursiva --\n",
            "10\n",
            "15\n",
            "0\n"
          ]
        }
      ],
      "source": [
        "# Multiplicação Recursiva (x, y são >= 0)\n",
        "def mult_rec(x, y):\n",
        "   if x == 0 or y == 0:\n",
        "      return 0 #Caso base\n",
        "   else:\n",
        "      return x + mult_rec(x - 1, y)\n",
        "\n",
        "# Testes\n",
        "print('-- Multiplicação recursiva --')\n",
        "print(mult_rec(4, 6))\n",
        "print(mult_rec(5, 1))\n",
        "print(mult_rec(0, 456))"
      ]
    },
    {
      "cell_type": "code",
      "execution_count": 2,
      "metadata": {},
      "outputs": [
        {
          "name": "stdout",
          "output_type": "stream",
          "text": [
            "-- Multiplicação recursiva com debug --\n",
            "mult_rec(x = 4, y= 6)\n",
            " mult_rec(x = 3, y= 6)\n",
            "  mult_rec(x = 2, y= 6)\n",
            "   mult_rec(x = 1, y= 6)\n",
            "    mult_rec(x = 0, y= 6)\n",
            "    Caso base: 0 * 6 = 0\n",
            "   Retornando: 1 * 6 = 6\n",
            "  Retornando: 2 * 6 = 12\n",
            " Retornando: 3 * 6 = 18\n",
            "Retornando: 4 * 6 = 24\n",
            "24\n"
          ]
        }
      ],
      "source": [
        "def mult_rec(x,y, nivel = 0):\n",
        "    indent = \" \" * nivel\n",
        "    print(f\"{indent}mult_rec(x = {x}, y= {y})\")\n",
        "    if x == 0 or y == 0:\n",
        "        print(f\"{indent}Caso base: {x} * {y} = 0\")\n",
        "        return 0\n",
        "    resultado = y + mult_rec(x- 1, y, nivel + 1)\n",
        "    print(f\"{indent}Retornando: {x} * {y} = {resultado}\")\n",
        "    return resultado\n",
        "# Testes\n",
        "print('-- Multiplicação recursiva com debug --')\n",
        "print(mult_rec(4, 6))"
      ]
    },
    {
      "cell_type": "markdown",
      "metadata": {
        "id": "GY1uiq0HVWV-"
      },
      "source": [
        "#**Exercício 02 – Linhas recursivas**\n",
        "\n",
        "Escreva uma função recursiva que recebe um inteiro positivo `n` e exibe `n` linhas de asteriscos.\n",
        "\n",
        "A primeira linha deve exibir um asterisco; a segunda dois asteriscos e assim por diante até a `n-ésima` linha, com a exibição de `n` asteriscos."
      ]
    },
    {
      "cell_type": "code",
      "execution_count": null,
      "metadata": {
        "id": "BKF0TdJkVgAO"
      },
      "outputs": [
        {
          "name": "stdout",
          "output_type": "stream",
          "text": [
            "-- Impressão de asteriscos [recursivo] --\n",
            " *  * \n",
            " *  *  * \n",
            " *  *  *  * \n",
            " *  *  *  *  * \n"
          ]
        }
      ],
      "source": [
        "# Imprime asteriscos com recursividade (n >= 0)\n",
        "def imprime_asteriscos(n):\n",
        "    if n > 1:\n",
        "        imprime_asteriscos(n - 1)\n",
        "        print(\" * \" * n) \n",
        "\n",
        "# Testes\n",
        "print('-- Impressão de asteriscos [recursivo] --')\n",
        "imprime_asteriscos(5)\n",
        "imprime_asteriscos(0)"
      ]
    },
    {
      "cell_type": "code",
      "execution_count": 31,
      "metadata": {},
      "outputs": [
        {
          "name": "stdout",
          "output_type": "stream",
          "text": [
            "\n",
            "-- Impressão de asteriscos [recursivo] --\n",
            " impime_asteriscos(n = 9)\n",
            "  impime_asteriscos(n = 8)\n",
            "   impime_asteriscos(n = 7)\n",
            "    impime_asteriscos(n = 6)\n",
            "     impime_asteriscos(n = 5)\n",
            "      impime_asteriscos(n = 4)\n",
            "       impime_asteriscos(n = 3)\n",
            "        impime_asteriscos(n = 2)\n",
            "         impime_asteriscos(n = 1)\n",
            "        Caso base: 1 asterisco(s)\n",
            "\n",
            "        *          *  \n",
            "       *         *         *  \n",
            "      *        *        *        *  \n",
            "     *       *       *       *       *  \n",
            "    *      *      *      *      *      *  \n",
            "   *     *     *     *     *     *     *  \n",
            "  *    *    *    *    *    *    *    *  \n",
            " *   *   *   *   *   *   *   *   *  \n",
            " impime_asteriscos(n = 0)\n",
            "Caso base: 0 asterisco(s)\n",
            "\n"
          ]
        }
      ],
      "source": [
        "def imprime_asteriscos(n, nivel = 0):\n",
        "    indent = \" \" * nivel\n",
        "    print(f\"{indent} impime_asteriscos(n = {n})\")\n",
        "    if n > 1:\n",
        "        imprime_asteriscos(n - 1, nivel + 1)\n",
        "        print(f\"{indent} *  \" * n)\n",
        "    else:\n",
        "        print(f\"{indent}Caso base: {n} asterisco(s)\\n\")\n",
        "\n",
        "# Testes\n",
        "print('\\n-- Impressão de asteriscos [recursivo] --')\n",
        "imprime_asteriscos(9)\n",
        "imprime_asteriscos(0)"
      ]
    },
    {
      "cell_type": "markdown",
      "metadata": {
        "id": "6WYUW_jlWG1V"
      },
      "source": [
        "#**Exercício 03 – Máximo valor contido em uma lista**\n",
        "\n",
        "Construa uma função que recebe uma lista de números como parâmetro e retorna o máximo valor nela contido. A função deve ser recursiva!"
      ]
    },
    {
      "cell_type": "code",
      "execution_count": 35,
      "metadata": {
        "id": "OJnnn_hfWLdm"
      },
      "outputs": [
        {
          "name": "stdout",
          "output_type": "stream",
          "text": [
            "-- Máximo valor em uma lista [recursiva] --\n",
            "90\n",
            "-5\n"
          ]
        }
      ],
      "source": [
        "def max_valor(lista):\n",
        "    if len(lista) == 1:\n",
        "        return lista[0] # Caso base\n",
        "    else:\n",
        "        maximos = max_valor(lista[1:]) # Chamada recursiva\n",
        "        return maximos if maximos > lista[0] else lista[0]\n",
        "\n",
        "# Testes\n",
        "print('-- Máximo valor em uma lista [recursiva] --')\n",
        "print(max_valor([-3, 4, 6, 90, 45]))\n",
        "print(max_valor([-5]))\n"
      ]
    },
    {
      "cell_type": "markdown",
      "metadata": {
        "id": "QOtsxUjAW74t"
      },
      "source": [
        "#**Exercício 04 – Soma recursiva dos elementos de uma lista**\n",
        "\n",
        "Construa uma função que recebe uma lista de números e retorna a soma dos elementos da lista, calculada recursivamente."
      ]
    },
    {
      "cell_type": "code",
      "execution_count": null,
      "metadata": {
        "id": "K7u68wSdXzfX"
      },
      "outputs": [
        {
          "name": "stdout",
          "output_type": "stream",
          "text": [
            "-- Soma recursiva de elementos em uma lista --\n",
            "1\n",
            "2\n",
            "5\n"
          ]
        }
      ],
      "source": [
        "# Soma dos elementos de uma lista\n",
        "def soma_lista(lista):\n",
        "    return len(lista) if lista == 1 else sum(lista) #Não é recursivo\n",
        "\n",
        "# Testes\n",
        "print('-- Soma recursiva de elementos em uma lista --')\n",
        "print(soma_lista([1]))\n",
        "print(soma_lista([2]))\n",
        "print(soma_lista([-5, 0, 4, 6]))"
      ]
    },
    {
      "cell_type": "markdown",
      "metadata": {
        "id": "GnSjp58tYPD0"
      },
      "source": [
        "#**Exercício 05 – Soma dos $n$ primeiros inteiros**\n",
        "\n",
        "Elabore uma função que recebe um inteiro `n` (positivo) como um parâmetro e retorna a soma de todos os inteiros positivos até `n`. Por exemplo, se `n = 50`, a função deve retornar a soma `1 + 2 + 3 + ⋯ + 48 + 49 + 50`. Use recursão no cálculo da soma."
      ]
    },
    {
      "cell_type": "code",
      "execution_count": 10,
      "metadata": {
        "id": "pXPuF6YOYdc8"
      },
      "outputs": [
        {
          "name": "stdout",
          "output_type": "stream",
          "text": [
            "-- Soma recursiva de todos os inteiros até n --\n",
            "1\n",
            "55\n",
            "1275\n"
          ]
        }
      ],
      "source": [
        "# Soma dos n primeiros inteiros\n",
        "def soma_todos(n):\n",
        "  if n <= 1:\n",
        "    return n\n",
        "  else:\n",
        "    return n + soma_todos(n - 1)\n",
        "# Testes\n",
        "print('-- Soma recursiva de todos os inteiros até n --')\n",
        "print(soma_todos(1))\n",
        "print(soma_todos(10))\n",
        "print(soma_todos(50))"
      ]
    },
    {
      "cell_type": "markdown",
      "metadata": {
        "id": "kQSp_w5uXRcV"
      },
      "source": [
        "#**Exercício 06 – Potência recursiva**\n",
        "\n",
        "Escreva uma função que recebe dois inteiros `x` e `y`. A função deve usar a recursão para o cálculo de `x` elevado a potência `y`."
      ]
    },
    {
      "cell_type": "code",
      "execution_count": 13,
      "metadata": {
        "id": "zRuRaz7BYtyd"
      },
      "outputs": [
        {
          "name": "stdout",
          "output_type": "stream",
          "text": [
            "-- Potência recursiva --\n",
            "1\n",
            "4\n",
            "81\n",
            "1\n"
          ]
        }
      ],
      "source": [
        "# Potência recursiva\n",
        "def potencia(x, y):\n",
        "  return 1 if y == 0 else x * potencia(x, y - 1)\n",
        "\n",
        "# Testes\n",
        "print('-- Potência recursiva --')\n",
        "print(potencia(3, 0))\n",
        "print(potencia(4, 1))\n",
        "print(potencia(3, 4))\n",
        "print(potencia(0, 0))"
      ]
    },
    {
      "cell_type": "markdown",
      "metadata": {
        "id": "vyWrWSt1Lr1q"
      },
      "source": [
        "#**Estudo de Caso – Escrevendo números por extenso**\n",
        "\n",
        "A função `numero_por-extenso` escreve um número inteiro entre -999.999 e 999.999 em sua forma por extenso, de forma recursiva.\n",
        "\n",
        "Analise o código, tomando o cuidado de nota em que pontos o algoritmo usa a recursão."
      ]
    },
    {
      "cell_type": "code",
      "execution_count": 15,
      "metadata": {
        "id": "WBbkjzFAKdbR"
      },
      "outputs": [],
      "source": [
        "def numero_por_extenso(n, nivel=0):\n",
        "    # Indentação visual, para entendermos a profundidade da recursão\n",
        "    indent = \"  \" * nivel\n",
        "    print(f\"{indent}Chamando numero_por_extenso({n})\")\n",
        "\n",
        "    if n < 0:\n",
        "        return f\"menos {numero_por_extenso(-n, nivel + 1)}\"\n",
        "\n",
        "    if n <= 20:\n",
        "        base = [\"zero\", \"um\", \"dois\", \"três\", \"quatro\", \"cinco\", \"seis\",\n",
        "                \"sete\", \"oito\", \"nove\", \"dez\", \"onze\", \"doze\", \"treze\",\n",
        "                \"quatorze\", \"quinze\", \"dezesseis\", \"dezessete\", \"dezoito\",\n",
        "                \"dezenove\", \"vinte\"]\n",
        "        resultado = base[n]\n",
        "        print(f\"{indent}→ Retorna '{resultado}' (caso base)\")\n",
        "        return resultado\n",
        "\n",
        "    if n < 100:\n",
        "        dezenas = [\"\", \"\", \"vinte\", \"trinta\", \"quarenta\", \"cinquenta\",\n",
        "                   \"sessenta\", \"setenta\", \"oitenta\", \"noventa\"]\n",
        "        dez = n // 10\n",
        "        resto = n % 10\n",
        "        if resto == 0:\n",
        "            resultado = dezenas[dez]\n",
        "        else:\n",
        "            resultado = f'{dezenas[dez]} e {numero_por_extenso(resto, nivel + 1)}'\n",
        "        print(f\"{indent}→ Retorna '{resultado}'\")\n",
        "        return resultado\n",
        "\n",
        "    if n < 1000:\n",
        "        centenas = [\"cem\", \"cento\", \"duzentos\", \"trezentos\", \"quatrocentos\",\n",
        "                    \"quinhentos\", \"seiscentos\", \"setecentos\", \"oitocentos\", \"novecentos\"]\n",
        "        cent = n // 100\n",
        "        resto = n % 100\n",
        "        if n == 100:\n",
        "            resultado = centenas[0]\n",
        "        elif resto == 0:\n",
        "            resultado = centenas[cent]\n",
        "        else:\n",
        "            resultado = f'{centenas[cent]} e {numero_por_extenso(resto, nivel + 1)}'\n",
        "        print(f\"{indent}→ Retorna '{resultado}'\")\n",
        "        return resultado\n",
        "\n",
        "    if n < 1_000_000:\n",
        "        milhar = n // 1000\n",
        "        resto = n % 1000\n",
        "        prefixo = \"mil\" if milhar == 1 else f'{numero_por_extenso(milhar, nivel + 1)} mil'\n",
        "        conjuncao = \"\" if resto == 0 else \" e \"\n",
        "        resultado = f'{prefixo}{conjuncao}{numero_por_extenso(resto, nivel + 1)}' if resto else prefixo\n",
        "        print(f\"{indent}→ Retorna '{resultado}'\")\n",
        "        return resultado\n",
        "\n",
        "    return \"O número digitado excede a capacidade do código!\"\n"
      ]
    },
    {
      "cell_type": "code",
      "execution_count": 16,
      "metadata": {
        "id": "Po4QZMPlKfHL"
      },
      "outputs": [
        {
          "name": "stdout",
          "output_type": "stream",
          "text": [
            "Chamando numero_por_extenso(2025)\n",
            "  Chamando numero_por_extenso(2)\n",
            "  → Retorna 'dois' (caso base)\n",
            "  Chamando numero_por_extenso(25)\n",
            "    Chamando numero_por_extenso(5)\n",
            "    → Retorna 'cinco' (caso base)\n",
            "  → Retorna 'vinte e cinco'\n",
            "→ Retorna 'dois mil e vinte e cinco'\n",
            "dois mil e vinte e cinco\n"
          ]
        }
      ],
      "source": [
        "print(numero_por_extenso(2025))"
      ]
    },
    {
      "cell_type": "code",
      "execution_count": null,
      "metadata": {
        "id": "nxvezGu9K0B6"
      },
      "outputs": [],
      "source": [
        "print(numero_por_extenso(-3421))\n"
      ]
    },
    {
      "cell_type": "code",
      "execution_count": null,
      "metadata": {
        "id": "SmrcmF2xM8r7"
      },
      "outputs": [],
      "source": [
        "print(numero_por_extenso(999999))"
      ]
    },
    {
      "cell_type": "code",
      "execution_count": null,
      "metadata": {
        "id": "4RiSkYqlNJ1i"
      },
      "outputs": [],
      "source": [
        "numero_por_extenso(1000000)"
      ]
    }
  ],
  "metadata": {
    "colab": {
      "provenance": []
    },
    "kernelspec": {
      "display_name": "Python 3",
      "language": "python",
      "name": "python3"
    },
    "language_info": {
      "codemirror_mode": {
        "name": "ipython",
        "version": 3
      },
      "file_extension": ".py",
      "mimetype": "text/x-python",
      "name": "python",
      "nbconvert_exporter": "python",
      "pygments_lexer": "ipython3",
      "version": "3.13.3"
    },
    "vscode": {
      "interpreter": {
        "hash": "c261aea317cc0286b3b3261fbba9abdec21eaa57589985bb7a274bf54d6cc0a7"
      }
    }
  },
  "nbformat": 4,
  "nbformat_minor": 0
}
