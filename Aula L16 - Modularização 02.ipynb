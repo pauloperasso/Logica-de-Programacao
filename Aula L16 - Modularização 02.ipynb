{
  "cells": [
    {
      "cell_type": "markdown",
      "metadata": {
        "id": "nZUyxKuZlnTn"
      },
      "source": [
        "#**TTI103 - Lógica de Programação**\n",
        "\n",
        "#**Aula L16 - Modularização 02**"
      ]
    },
    {
      "cell_type": "markdown",
      "metadata": {
        "id": "IgipK11vlx6d"
      },
      "source": [
        "#**Estudo de Caso - Aliados políticos**\n",
        "\n",
        "Em um ambiente como a Câmara dos Deputados ou o Senado Federal é muito importante que um membro dessas casas seja capaz de detectar potenciais aliados, colegas que estejam alinhados em termos de propósitos, valores morais e éticos.\n",
        "\n",
        "Uma forma de se determinar o alinhamento ideológico entre dois congressistas é determinar a concordância entre os registros de votação de cada um.\n",
        "\n",
        "Assim, se na votação de determinado projeto de lei ou emenda constitucional é possível votar a favor (1) ou contra (0), o alinhamento se dá na medida da concordância entre os votos de cada congressista.\n",
        "\n",
        "Podemos então medir a concordância ideológica entre dois congressistas ao identificarmos quantas vezes votaram da mesma forma. Vejamos um exemplo. Considere os registros de votação de três congressistas:\n",
        "\n",
        "`cong_A = [1, 1, 0, 0, 1]`\n",
        "\n",
        "`cong_B = [1, 0, 0, 1, 1]`\n",
        "\n",
        "`cong_C = [1, 1, 0, 1, 1]`\n",
        "\n",
        "Nota-se que Concordância$_{AB}=3$ e Concordância$_{AC}=4$. Então, o congressista $A$ deveria se aliar ao congressista $C$, em detrimento de uma aliança com o congressista $B$.\n",
        "\n",
        "Vamos construir um programa que, a partir de listas de votação geradas aleatoriamente, seja capaz de indicar qual o melhor aliado para um determinado congressista. Para tanto:\n",
        "\n",
        "**a)** Elabore a função `gera_votos` que recebe o número de votos desejado (`num_votos`) e retorna uma lista contendo `num_votos` elementos sorteados aleatoriamente entre 0 e 1. Exemplo de uso:\n",
        "\n",
        "`>>> import random`\n",
        "\n",
        "`>>> random.seed(10)`\n",
        "\n",
        "`>>> votos1 = gera_votos(5)`\n",
        "\n",
        "`>>> print(votos1)`\n",
        "\n",
        "`[0, 1, 1, 0, 0]`\n",
        "\n",
        "`>>> random.seed(42)`\n",
        "\n",
        "`>>> votos2 = gera_votos(8)`\n",
        "\n",
        "`>>> print(votos2)`\n",
        "\n",
        "`[0, 0, 1, 0, 0, 0, 0, 0]`"
      ]
    },
    {
      "cell_type": "code",
      "execution_count": null,
      "metadata": {
        "id": "i9xdOXAwlmo6"
      },
      "outputs": [],
      "source": [
        "def gera_votos(num_votos):\n",
        "  pass\n",
        "\n",
        "# Testes\n",
        "import random\n",
        "\n",
        "random.seed(10)\n",
        "votos1 = gera_votos(5)\n",
        "print(votos1)\n",
        "\n",
        "random.seed(42)\n",
        "votos2 = gera_votos(8)\n",
        "print(votos2)"
      ]
    },
    {
      "cell_type": "markdown",
      "metadata": {
        "id": "eSdKw7hAveFL"
      },
      "source": [
        "**b)** Elabore a função `concordancia` que recebe duas listas de mesmo comprimento (contendo somente `0's` e `1's`) e retorna a concordância ideológica entre as duas. Exemplo de uso:\n",
        "\n",
        "`>>> x = [1, 1, 0, 0, 1]`\n",
        "\n",
        "`>>> y = [1, 1, 0, 1, 1]`\n",
        "\n",
        "`>>> print(concordancia(x, y))`\n",
        "\n",
        "`4`"
      ]
    },
    {
      "cell_type": "code",
      "execution_count": null,
      "metadata": {
        "id": "fFGtvDlf_4d5"
      },
      "outputs": [],
      "source": [
        "def concordancia(x, y):\n",
        "  pass\n",
        "\n",
        "# Teste\n",
        "x = [1, 1, 0, 0, 1]\n",
        "y = [1, 1, 0, 1, 1]\n",
        "print(concordancia(x, y))"
      ]
    },
    {
      "cell_type": "markdown",
      "metadata": {
        "id": "vH_DJvL9BZog"
      },
      "source": [
        "## PAUSA para um pouco de teoria...\n",
        "\n",
        "As tuplas em Python podem ser empregadas como registros de campos nomeados. Nesse caso, são denominadas tuplas nomeadas. Uma tupla nomeada é exatamente como uma tupla normal, exceto que os campos também podem ser acessados por *dot-notation* (`nome_tupla.nome_campo`). As tuplas nomeadas continuam imutáveis, indexáveis e iteráveis.\n",
        "\n",
        "Vejamos um exemplo. Deseja-se criar tuplas nomeadas com os campos `nome`, `e_mail` e `CEP` para o registro e controle da clientela de certa empresa. O código a seguir mostra como:"
      ]
    },
    {
      "cell_type": "code",
      "execution_count": 4,
      "metadata": {
        "id": "wKuW8LUJQv2U"
      },
      "outputs": [
        {
          "name": "stdout",
          "output_type": "stream",
          "text": [
            "Clientes(nome='Tony Stark', e_mail='ironman@starkindustries.com', CEP='10012')\n",
            "Tony Stark\n",
            "ironman@starkindustries.com\n",
            "10012\n"
          ]
        }
      ],
      "source": [
        "from collections import namedtuple\n",
        "\n",
        "Clientes = namedtuple('Clientes', 'nome e_mail CEP')\n",
        "cliente = Clientes('Tony Stark', 'ironman@starkindustries.com', '10012')\n",
        "print(cliente)\n",
        "print(cliente.nome)\n",
        "print(cliente.e_mail)\n",
        "print(cliente.CEP)"
      ]
    },
    {
      "cell_type": "markdown",
      "metadata": {
        "id": "SPsj5zhwRRJC"
      },
      "source": [
        "Também é possível criar diversos registros e armazená-los em uma lista:"
      ]
    },
    {
      "cell_type": "code",
      "execution_count": 5,
      "metadata": {
        "id": "WL7EP-rLBnUa"
      },
      "outputs": [
        {
          "name": "stdout",
          "output_type": "stream",
          "text": [
            "Clientes(nome='Tony Stark', e_mail='ironman@starkindustries.com', CEP='10012')\n",
            "Clientes(nome='Bruce Banner', e_mail='thehulk@avengers.com', CEP='10014')\n",
            "Clientes(nome='Carol Danvers', e_mail='captainmarvel@space.com', CEP='10015')\n"
          ]
        }
      ],
      "source": [
        "nomes = ['Tony Stark', 'Bruce Banner', 'Carol Danvers']\n",
        "e_mails = ['ironman@starkindustries.com', 'thehulk@avengers.com',\n",
        "           'captainmarvel@space.com']\n",
        "CEPs = ['10012', '10014', '10015']\n",
        "meus_clientes = []\n",
        "for nome, email, cep in zip(nomes, e_mails, CEPs):\n",
        "  meus_clientes.append(Clientes(nome, email, cep))\n",
        "for cliente in meus_clientes:\n",
        "  print(cliente)"
      ]
    },
    {
      "cell_type": "markdown",
      "metadata": {
        "id": "KJ-V4hxUv7wN"
      },
      "source": [
        "##RETORNANDO ao desafio...\n",
        "\n",
        "Para determinar o alinhamento ideológico entre congressistas, é conveniente usar uma lista de tuplas nomeadas com os campos `nome` (nome do congressista) e `votacao` (lista que armazena o histórico de votações). Assim, para a criação da “classe” `Ficha`, temos:\n"
      ]
    },
    {
      "cell_type": "code",
      "execution_count": 1,
      "metadata": {
        "id": "udZ6wEctSUp5"
      },
      "outputs": [],
      "source": [
        "from collections import namedtuple\n",
        "Ficha = namedtuple('Ficha', 'nome votacao')"
      ]
    },
    {
      "cell_type": "markdown",
      "metadata": {
        "id": "2Ff_vySXwO3L"
      },
      "source": [
        "Com base nessa construção:\n",
        "\n",
        "**c)** Elabore a função `gera_ficha_votos` que recebe como parâmetros uma lista `nomes` (contendo os nomes dos congressistas) e o inteiro `num_votos` (o número de votos registrados para cada congressista). Caso o comprimento da lista nomes seja superior a 1, a função deve retornar uma lista de tuplas nomeadas do tipo Ficha (uma tupla para cada congressista), em que o campo `votacao` deve ser preenchido com um histórico de votos gerado de forma aleatória (use a função `gera_votos`). Caso contrário, deve retornar uma única tupla nomeada, nas mesmas condições expostas acima. Exemplo de uso¹:\n",
        "\n",
        "`>>> minha_ficha = gera_ficha_votos(['Fulano de Tal'], 10)`\n",
        "\n",
        "`>>> print(minha_ficha)`\n",
        "\n",
        "`Ficha(nome='Fulano de Tal', votacao=[0, 0, 0, 1, 0, 0, 1, 0, 0, 1])`\n",
        "\n",
        "`>>> nomes = ['Ana Soares', 'José Lima', 'Maria Lopes']`\n",
        "\n",
        "`>>> fichas = gera_ficha_votos(nomes, 10)`\n",
        "\n",
        "`>>> print(fichas)`\n",
        "\n",
        "`[Ficha(nome='Ana Soares', votacao=[1, 1, 0, 1, 1, 0, 0, 0, 1, 1]),\n",
        "Ficha(nome='José Lima', votacao=[0, 1, 0, 1, 1, 1, 0, 1, 0, 0]),\n",
        "Ficha(nome='Maria Lopes', votacao=[1, 1, 1, 0, 1, 1, 0, 1, 1, 0])]`\n",
        "\n",
        "¹ Os elementos da lista `votacao` são (muito provavelmente) diferentes daqueles que serão obtidos em seu *Colab notebook* , uma vez que não houve a determinação de uma semente fixa para a geração dos números aleatórios."
      ]
    },
    {
      "cell_type": "code",
      "execution_count": 8,
      "metadata": {
        "id": "-OS5a0fG_lVP"
      },
      "outputs": [
        {
          "ename": "NameError",
          "evalue": "name 'gera_votos' is not defined",
          "output_type": "error",
          "traceback": [
            "\u001b[31m---------------------------------------------------------------------------\u001b[39m",
            "\u001b[31mNameError\u001b[39m                                 Traceback (most recent call last)",
            "\u001b[36mCell\u001b[39m\u001b[36m \u001b[39m\u001b[32mIn[8]\u001b[39m\u001b[32m, line 10\u001b[39m\n\u001b[32m      8\u001b[39m   \u001b[38;5;28;01mreturn\u001b[39;00m ficha\n\u001b[32m      9\u001b[39m \u001b[38;5;66;03m# Testes\u001b[39;00m\n\u001b[32m---> \u001b[39m\u001b[32m10\u001b[39m minha_ficha = \u001b[43mgera_ficha_votos\u001b[49m\u001b[43m(\u001b[49m\u001b[43m[\u001b[49m\u001b[33;43m'\u001b[39;49m\u001b[33;43mFulano de Tal\u001b[39;49m\u001b[33;43m'\u001b[39;49m\u001b[43m]\u001b[49m\u001b[43m,\u001b[49m\u001b[43m \u001b[49m\u001b[32;43m10\u001b[39;49m\u001b[43m)\u001b[49m\n\u001b[32m     11\u001b[39m \u001b[38;5;28mprint\u001b[39m(minha_ficha)\n\u001b[32m     12\u001b[39m nomes = [\u001b[33m'\u001b[39m\u001b[33mAna Soares\u001b[39m\u001b[33m'\u001b[39m, \u001b[33m'\u001b[39m\u001b[33mJosé Lima\u001b[39m\u001b[33m'\u001b[39m, \u001b[33m'\u001b[39m\u001b[33mMaria Lopes\u001b[39m\u001b[33m'\u001b[39m]\n",
            "\u001b[36mCell\u001b[39m\u001b[36m \u001b[39m\u001b[32mIn[8]\u001b[39m\u001b[32m, line 3\u001b[39m, in \u001b[36mgera_ficha_votos\u001b[39m\u001b[34m(nomes, num_votos)\u001b[39m\n\u001b[32m      1\u001b[39m \u001b[38;5;28;01mdef\u001b[39;00m\u001b[38;5;250m \u001b[39m\u001b[34mgera_ficha_votos\u001b[39m(nomes, num_votos):\n\u001b[32m      2\u001b[39m   \u001b[38;5;28;01mif\u001b[39;00m \u001b[38;5;28mlen\u001b[39m(nomes) ==  \u001b[32m1\u001b[39m:\n\u001b[32m----> \u001b[39m\u001b[32m3\u001b[39m     ficha = Ficha(nomes, \u001b[43mgera_votos\u001b[49m(num_votos))\n\u001b[32m      4\u001b[39m   \u001b[38;5;28;01melse\u001b[39;00m:\n\u001b[32m      5\u001b[39m     ficha = []\n",
            "\u001b[31mNameError\u001b[39m: name 'gera_votos' is not defined"
          ]
        }
      ],
      "source": [
        "def gera_ficha_votos(nomes, num_votos):\n",
        "  if len(nomes) ==  1:\n",
        "    ficha = Ficha(nomes, gera_votos(num_votos))\n",
        "  else:\n",
        "    ficha = []\n",
        "    for nome in nomes:\n",
        "      ficha.append(Ficha(nome, gera_votos(num_votos)))\n",
        "  return ficha\n",
        "# Testes\n",
        "minha_ficha = gera_ficha_votos(['Fulano de Tal'], 10)\n",
        "print(minha_ficha)\n",
        "nomes = ['Ana Soares', 'José Lima', 'Maria Lopes']\n",
        "fichas = gera_ficha_votos(nomes, 10)\n",
        "print(fichas)"
      ]
    },
    {
      "cell_type": "markdown",
      "metadata": {
        "id": "8uH6yd-5_qxW"
      },
      "source": [
        "**d)** Elabore a função `busca_aliados` que recebe como parâmetros a tupla nomeada `minha_ficha` (com o nome e registro de votação do congressista que busca um aliado) e a lista de tuplas nomeadas `fichas` (com os registros de todos os demais congressistas). A função deve retornar uma lista cujos elementos são as respectivas concordâncias entre o congressista em busca de um aliado e os demais colegas. Exemplo de uso²:\n",
        "\n",
        "`>>> alinhamentos = busca_aliados(minha_ficha, fichas)`\n",
        "\n",
        "`>>> print(alinhamentos)`\n",
        "\n",
        "`[2, 1, 0]`\n",
        "\n",
        "²Continuação direta do código exibido no item (c)."
      ]
    },
    {
      "cell_type": "code",
      "execution_count": null,
      "metadata": {
        "id": "xkkcdMroBG9o"
      },
      "outputs": [],
      "source": [
        "def busca_aliados(congressista, colegas):\n",
        "  \n",
        "\n",
        "# Testes\n",
        "alinhamentos = busca_aliados(minha_ficha, fichas)\n",
        "print(alinhamentos)"
      ]
    },
    {
      "cell_type": "markdown",
      "metadata": {
        "id": "Y5fOZ4A3_v9Z"
      },
      "source": [
        "**e)** Elabore a função `meu_aliado` que recebe os mesmos parâmetros da função `busca_aliados` e retorna o nome do congressista que será o melhor aliado e o respectivo índice de concordância (alinhamento ideológico). Para ilustrar o exemplo de uso (e testar seu código final), considere o programa a seguir:"
      ]
    },
    {
      "cell_type": "code",
      "execution_count": null,
      "metadata": {
        "id": "uwwaOU5s__JS"
      },
      "outputs": [],
      "source": [
        "def meu_aliado(congressista, colegas):\n",
        "  pass\n",
        "\n",
        "Ficha = namedtuple('Ficha', 'nome votacao')\n",
        "NOMES = ['Ana Soares', 'José Lima', 'Maria Lopes', 'Cintia Oliveira',\n",
        "         'Renato Alves', 'Gustavo Araujo','Felipe Borges', 'Humberto Silva',\n",
        "         'Mariana Ferreira', 'Clemente Santana']\n",
        "NUM_VOTOS = 10\n",
        "PROCURADOR = 'Sérgio Furtado'\n",
        "minha_ficha = gera_ficha_votos([PROCURADOR], NUM_VOTOS)\n",
        "fichas = gera_ficha_votos(NOMES, NUM_VOTOS)\n",
        "aliado, score = meu_aliado(minha_ficha, fichas)\n",
        "print(f'O melhor aliado de {PROCURADOR} é {aliado}, com alinhamento igual a {score}.')"
      ]
    },
    {
      "cell_type": "markdown",
      "metadata": {
        "id": "walEU_vCBkvw"
      },
      "source": [
        "A saída do programa é³:\n",
        "\n",
        "`O melhor aliado de Sérgio Furtado é Cintia Oliveira, com concordância igual a 4`\n",
        "\n",
        "³Novamente, o resultado poderá variar!"
      ]
    }
  ],
  "metadata": {
    "colab": {
      "provenance": []
    },
    "kernelspec": {
      "display_name": "Python 3",
      "name": "python3"
    },
    "language_info": {
      "codemirror_mode": {
        "name": "ipython",
        "version": 3
      },
      "file_extension": ".py",
      "mimetype": "text/x-python",
      "name": "python",
      "nbconvert_exporter": "python",
      "pygments_lexer": "ipython3",
      "version": "3.13.3"
    }
  },
  "nbformat": 4,
  "nbformat_minor": 0
}
