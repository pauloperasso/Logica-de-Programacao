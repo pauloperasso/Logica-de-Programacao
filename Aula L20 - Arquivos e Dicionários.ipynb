{
  "cells": [
    {
      "cell_type": "markdown",
      "metadata": {
        "id": "PDPL77ECcuyT"
      },
      "source": [
        "#**TTI103 - Lógica de Programação**\n",
        "\n",
        "#**Aula L20 - Arquivos e Dicionários**"
      ]
    },
    {
      "cell_type": "markdown",
      "metadata": {
        "id": "lDV-TDlVUCFw"
      },
      "source": [
        "# **Exercício 01 – Distribuindo cartas de um baralho**\n",
        "\n",
        "Construa um programa que distribua aleatoriamente\n",
        "as cartas de um baralho completo a partir da escolha do número de cartas desejado.\n",
        "\n",
        "A cada “mão”, o programa deve imprimir as cartas distribuídas e informar o valor agregado da “mão”. O processo deve continuar até que todas as cartas do baralho tenham sido distribuídas. Para isso:\n",
        "\n",
        "**a)** Elabore uma função `criar_baralho` que deve retornar um dicionário `baralho` representativo das\n",
        "cartas e os seus respectivos valores (vamos adotar o valor 1 para os ases e o valor 10 para os valetes,\n",
        "damas e reis, como no *“black jack”* ).\n"
      ]
    },
    {
      "cell_type": "code",
      "execution_count": null,
      "metadata": {
        "id": "WII83vQlUhx6"
      },
      "outputs": [],
      "source": [
        "# Função criar_baralho\n",
        "def criar_baralho():\n",
        "  pass\n",
        "\n",
        "# Teste\n",
        "print(criar_baralho())"
      ]
    },
    {
      "cell_type": "markdown",
      "metadata": {
        "id": "GY1uiq0HVWV-"
      },
      "source": [
        "**b)** Elabore uma função `distribuir_cartas` que recebe o baralho e o número de cartas que se deseja\n",
        "distribuir de forma aleatória (sugestão: use a função `choice` do módulo `random`).\n",
        "\n",
        "A função deve imprimir as cartas selecionadas, eliminá-las do baralho (razão pela qual esse dicionário deve ser uma variável global) e retornar o valor da “mão” distribuída.\n",
        "\n",
        "Teste sua função com o código:\n",
        "\n",
        "`global baralho`\n",
        "\n",
        "`baralho = criar_baralho()`\n",
        "\n",
        "`valor_mao = distribuir_cartas(baralho, 4)`\n",
        "\n",
        "`print(valor_mao)`"
      ]
    },
    {
      "cell_type": "code",
      "execution_count": null,
      "metadata": {
        "id": "BKF0TdJkVgAO"
      },
      "outputs": [],
      "source": [
        "# Função distribuir_cartas\n",
        "from random import choice\n",
        "\n",
        "def distribuir_cartas(baralho, num_cartas):\n",
        "  cartas_sobrando = len(baralho)\n",
        "  if num_cartas > cartas_sobrando:\n",
        "    print(\"O baralho só dispõe de\", cartas_sobrando, \"cartas.\")\n",
        "    num_cartas = cartas_sobrando\n",
        "    mao = 0\n",
        "    print(\"Cartas sorteadas\")\n",
        "    for _ in range(num_cartas):\n",
        "      carta = choice(list(baralho))\n",
        "      mao += carta\n",
        "      baralho.remove(carta)\n",
        "# Teste\n",
        "global baralho\n",
        "baralho = criar_baralho()\n",
        "valor_mao = distribuir_cartas(baralho, 4)\n",
        "print('\\nValor da mão:', valor_mao)"
      ]
    },
    {
      "cell_type": "markdown",
      "metadata": {
        "id": "6WYUW_jlWG1V"
      },
      "source": [
        "**c)** Elabore um programa gerencie a distribuição das cartas até que o baralho se esgote (lembre-se de usar a cláusula `global` para o dicionário `baralho`!)."
      ]
    },
    {
      "cell_type": "code",
      "execution_count": 1,
      "metadata": {
        "id": "OJnnn_hfWLdm"
      },
      "outputs": [],
      "source": [
        "# Programa principal\n",
        "from random import choice\n",
        "def criar_baralho():\n",
        "  baralho = []\n",
        "  naipes = ['Copas', 'Espadas', 'Ouros', 'Paus']\n",
        "  for naipe in naipes:\n",
        "    for i in range(1, 14):\n",
        "      baralho.append((i, naipe))\n",
        "  return baralho\n"
      ]
    },
    {
      "cell_type": "markdown",
      "metadata": {
        "id": "QOtsxUjAW74t"
      },
      "source": [
        "Nos exercícios 02 e 03, usaremos o arquivo “5Parágrafos-1984.txt” que contém os cinco primeiros parágrafos do capítulo 1 da primeira parte da obra “1984” de George Orwell (livro de domínio público).\n",
        "\n",
        "Execute as células a seguir para incorporar o arquivo ao GoogleColab notebook."
      ]
    },
    {
      "cell_type": "code",
      "execution_count": 2,
      "metadata": {
        "id": "K7u68wSdXzfX"
      },
      "outputs": [
        {
          "name": "stdout",
          "output_type": "stream",
          "text": [
            "Collecting gdown\n",
            "  Downloading gdown-5.2.0-py3-none-any.whl.metadata (5.8 kB)\n",
            "Requirement already satisfied: beautifulsoup4 in c:\\users\\paulo\\appdata\\local\\programs\\python\\python313\\lib\\site-packages (from gdown) (4.13.4)\n",
            "Collecting filelock (from gdown)\n",
            "  Downloading filelock-3.18.0-py3-none-any.whl.metadata (2.9 kB)\n",
            "Requirement already satisfied: requests[socks] in c:\\users\\paulo\\appdata\\local\\programs\\python\\python313\\lib\\site-packages (from gdown) (2.32.3)\n",
            "Collecting tqdm (from gdown)\n",
            "  Downloading tqdm-4.67.1-py3-none-any.whl.metadata (57 kB)\n",
            "Requirement already satisfied: soupsieve>1.2 in c:\\users\\paulo\\appdata\\local\\programs\\python\\python313\\lib\\site-packages (from beautifulsoup4->gdown) (2.7)\n",
            "Requirement already satisfied: typing-extensions>=4.0.0 in c:\\users\\paulo\\appdata\\local\\programs\\python\\python313\\lib\\site-packages (from beautifulsoup4->gdown) (4.13.2)\n",
            "Requirement already satisfied: charset-normalizer<4,>=2 in c:\\users\\paulo\\appdata\\local\\programs\\python\\python313\\lib\\site-packages (from requests[socks]->gdown) (3.4.2)\n",
            "Requirement already satisfied: idna<4,>=2.5 in c:\\users\\paulo\\appdata\\local\\programs\\python\\python313\\lib\\site-packages (from requests[socks]->gdown) (3.10)\n",
            "Requirement already satisfied: urllib3<3,>=1.21.1 in c:\\users\\paulo\\appdata\\local\\programs\\python\\python313\\lib\\site-packages (from requests[socks]->gdown) (2.4.0)\n",
            "Requirement already satisfied: certifi>=2017.4.17 in c:\\users\\paulo\\appdata\\local\\programs\\python\\python313\\lib\\site-packages (from requests[socks]->gdown) (2025.1.31)\n",
            "Requirement already satisfied: PySocks!=1.5.7,>=1.5.6 in c:\\users\\paulo\\appdata\\local\\programs\\python\\python313\\lib\\site-packages (from requests[socks]->gdown) (1.7.1)\n",
            "Requirement already satisfied: colorama in c:\\users\\paulo\\appdata\\roaming\\python\\python313\\site-packages (from tqdm->gdown) (0.4.6)\n",
            "Downloading gdown-5.2.0-py3-none-any.whl (18 kB)\n",
            "Downloading filelock-3.18.0-py3-none-any.whl (16 kB)\n",
            "Downloading tqdm-4.67.1-py3-none-any.whl (78 kB)\n",
            "Installing collected packages: tqdm, filelock, gdown\n",
            "\n",
            "   ---------------------------------------- 0/3 [tqdm]\n",
            "   ---------------------------------------- 0/3 [tqdm]\n",
            "   ---------------------------------------- 0/3 [tqdm]\n",
            "   ---------------------------------------- 0/3 [tqdm]\n",
            "   ---------------------------------------- 0/3 [tqdm]\n",
            "   ---------------------------------------- 0/3 [tqdm]\n",
            "   ------------- -------------------------- 1/3 [filelock]\n",
            "   ------------- -------------------------- 1/3 [filelock]\n",
            "   -------------------------- ------------- 2/3 [gdown]\n",
            "   -------------------------- ------------- 2/3 [gdown]\n",
            "   -------------------------- ------------- 2/3 [gdown]\n",
            "   ---------------------------------------- 3/3 [gdown]\n",
            "\n",
            "Successfully installed filelock-3.18.0 gdown-5.2.0 tqdm-4.67.1\n",
            "Note: you may need to restart the kernel to use updated packages.\n"
          ]
        }
      ],
      "source": [
        "%pip install gdown\n",
        "import gdown"
      ]
    },
    {
      "cell_type": "code",
      "execution_count": null,
      "metadata": {
        "id": "wQK-SU9aX5Hd"
      },
      "outputs": [],
      "source": [
        "# Baixando o arquivo\n",
        "file_id = '15ns9a9nLyrtGGUpSwRgrnwz8XoxL7-2H'\n",
        "output_file = '5Parágrafos-1984.txt'\n",
        "gdown.download(f'https://drive.google.com/uc?id={file_id}', output_file)"
      ]
    },
    {
      "cell_type": "markdown",
      "metadata": {
        "id": "GnSjp58tYPD0"
      },
      "source": [
        "# **Exercício 02 - Ocorrência de palavras em um texto**\n",
        "\n",
        "Escreva um programa que lê o arquivo texto\n",
        "“5Parágrafos-1984.txt” e cria um novo arquivo chamado “Ocorrências.txt” que deve reunir todas as\n",
        "palavras contidas no texto, acompanhadas de sua ocorrência e ordenadas de maneira decrescente.\n",
        "\n",
        "Para isso, modularize seu código:\n",
        "\n",
        "**a)** Elabore uma função `le_arquivo` que recebe como parâmetro o nome de um arquivo texto e retorna o\n",
        "seu conteúdo convertido para caixa baixa."
      ]
    },
    {
      "cell_type": "code",
      "execution_count": null,
      "metadata": {
        "id": "pXPuF6YOYdc8"
      },
      "outputs": [],
      "source": [
        "# Função le_arquivo\n",
        "def le_arquivo(nome_arq):\n",
        "  pass\n",
        "\n",
        "# Teste\n",
        "print(le_arquivo('5Parágrafos-1984.txt'))"
      ]
    },
    {
      "cell_type": "markdown",
      "metadata": {
        "id": "kQSp_w5uXRcV"
      },
      "source": [
        "**b)** Elabore uma função `palavras_no_texto` que recebe um texto em caixa baixa e logo a seguir remove\n",
        "a sua pontuação (use a lista\n",
        "\n",
        "`pontuacao = [\".\", \",\", \":\", \";\", \"!\", \"?\", \"(\", \")\", \"—\"]`\n",
        "\n",
        "para conseguir isso!). A função deve retornar um dicionário que contenha as palavras utilizadas nesse texto acompanhadas de sua ocorrência."
      ]
    },
    {
      "cell_type": "code",
      "execution_count": null,
      "metadata": {
        "id": "zRuRaz7BYtyd"
      },
      "outputs": [],
      "source": [
        "# Função palavras_no_texto\n",
        "def palavras_no_texto(texto):\n",
        "  pass\n",
        "\n",
        "# Teste\n",
        "texto = le_arquivo('5Parágrafos-1984.txt')\n",
        "print(palavras_no_texto(texto))"
      ]
    },
    {
      "cell_type": "markdown",
      "metadata": {
        "id": "uhBmYA_bbq-j"
      },
      "source": [
        "Para realizar o próximo item do exercício, execute as células a seguir e analise o processamento das informações."
      ]
    },
    {
      "cell_type": "code",
      "execution_count": null,
      "metadata": {
        "id": "rekSG66jbsat"
      },
      "outputs": [],
      "source": [
        "def segundo_elemento(elemento):\n",
        "  return elemento[1]\n",
        "\n",
        "# Cria um dicionário\n",
        "x = {'dois': 2, 'um': 1, 'tres': 3}\n",
        "# Cria uma lista com cada um dos itens do dicionário\n",
        "itens = x.items()\n",
        "# Ordena utilizando o segundo elemento como parâmetro\n",
        "x_ordenado = sorted(itens, key=segundo_elemento)\n",
        "# Converte a lista para um dicionário\n",
        "x = dict(x_ordenado)\n",
        "print(x)"
      ]
    },
    {
      "cell_type": "code",
      "execution_count": null,
      "metadata": {
        "id": "vVeN0UkZbxkM"
      },
      "outputs": [],
      "source": [
        "# Função lambda\n",
        "y = lambda a, b: a + ' ' + b\n",
        "print(y('olá', 'mundo'))\n",
        "z = lambda a, b: a * b\n",
        "print(z(2, 4))"
      ]
    },
    {
      "cell_type": "code",
      "execution_count": null,
      "metadata": {
        "id": "wANK3FEfb24M"
      },
      "outputs": [],
      "source": [
        "# Cria um dicionário\n",
        "x = {'dois': 2, 'um': 1, 'tres': 3}\n",
        "# Cria uma lista com cada um dos itens do dicionário\n",
        "itens = x.items()\n",
        "# Ordena utilizando o segundo elemento como parâmetro\n",
        "x_ordenado = sorted(itens, key=lambda item: item[1])\n",
        "\n",
        "'''dict_palavras.items() devolve uma lista de tuplas contendo pares\n",
        "(chave, valor) do dicionário. O item é o elemento desta tupla, em que item[0]\n",
        "é a chave e item[1] é o valor. Assim, key=lambda item : item[1] indica que a\n",
        "chave de comparação é o valor dos elementos do dicionário.'''\n",
        "\n",
        "print(dict(x_ordenado))"
      ]
    },
    {
      "cell_type": "markdown",
      "metadata": {
        "id": "frM9tmk5ZZJF"
      },
      "source": [
        "**c)** Elabore uma função `ordena_ocorrencias` que recebe um dicionário de palavras e ocorrências e\n",
        "retorna outro dicionário, com o mesmo conteúdo, porém ordenado de forma decrescente em função das\n",
        "ocorrências de cada palavra."
      ]
    },
    {
      "cell_type": "code",
      "execution_count": null,
      "metadata": {
        "id": "jKdtT13nZeWU"
      },
      "outputs": [],
      "source": [
        "# Função ordena_ocorrencias\n",
        "def ordena_ocorrencias(dict_palavras):\n",
        "  pass\n",
        "\n",
        "# Teste\n",
        "texto = le_arquivo('5Parágrafos-1984.txt')\n",
        "palavras = palavras_no_texto(texto)\n",
        "print(ordena_ocorrencias(palavras))"
      ]
    },
    {
      "cell_type": "markdown",
      "metadata": {
        "id": "6lvYD0rCcEec"
      },
      "source": [
        "**d)** Elabore uma função `cria_arq_ocorrencias` que recebe o dicionário ordenado do item anterior e um nome de arquivo a ser criado. Tal arquivo, do tipo .txt, deve relacionar cada palavra presente no dicionário com sua ocorrência. Use o formato:\n",
        "\n",
        "`palavra ==> ocorrência`"
      ]
    },
    {
      "cell_type": "code",
      "execution_count": null,
      "metadata": {
        "id": "WG48HL5ncDN1"
      },
      "outputs": [],
      "source": [
        "# Função cria_arq_ocorrencias\n",
        "def cria_arq_ocorrencias(dicionario, nome_arq):\n",
        "  pass\n",
        "\n",
        "# Teste\n",
        "texto = le_arquivo('5Parágrafos-1984.txt')\n",
        "palavras = palavras_no_texto(texto)\n",
        "pal_ocor = ordena_ocorrencias(palavras)\n",
        "cria_arq_ocorrencias(pal_ocor, 'Ocorrencias.txt')"
      ]
    },
    {
      "cell_type": "markdown",
      "metadata": {
        "id": "E5WhUvwSdABd"
      },
      "source": [
        "# **Exercício 03 – Encriptação e decriptação de arquivos**\n",
        "\n",
        "Escreva um programa que usa um dicionário\n",
        "para realizar a encriptação e decriptação de textos. O dicionário a ser usado é `CODIGOS` (vide célula de código do item **(d)**).\n",
        "\n",
        "Como exemplo de uso, vamos encriptar o conteúdo do arquivo “5Parágrafos-1984.txt”. Após a\n",
        "encriptação, vamos decodificá-lo e checar se conseguimos recuperar o texto original. Para isso:\n",
        "\n",
        "**a)** Reutilize sua implementação da função `le_arquivo` desenvolvida no item **(a) do exercício anterior**, modificando-a para que mantenha a caixa do texto original.\n"
      ]
    },
    {
      "cell_type": "code",
      "execution_count": null,
      "metadata": {
        "id": "IbDIFfQRdK5t"
      },
      "outputs": [],
      "source": [
        "# Função le_arquivo\n",
        "def le_arquivo(nome_arq):\n",
        "  pass"
      ]
    },
    {
      "cell_type": "markdown",
      "metadata": {
        "id": "_PgOGVZcdb50"
      },
      "source": [
        "**b)** Elabore uma função `encriptacao` que recebe um texto, um dicionário para codificação e um nome de\n",
        "arquivo a ser criado. A função deve criar um arquivo com o texto em sua versão encriptada, segundo o\n",
        "dicionário `CODIGOS` (para nosso exemplo, no programa principal, crie o arquivo “Msg_codificada.txt”)."
      ]
    },
    {
      "cell_type": "code",
      "execution_count": null,
      "metadata": {
        "id": "8U4xzoQrdbab"
      },
      "outputs": [],
      "source": [
        "# Função encriptacao\n",
        "def encriptacao(texto, cod, nome_arq):\n",
        "  pass"
      ]
    },
    {
      "cell_type": "markdown",
      "metadata": {
        "id": "rcBznxhDdtwa"
      },
      "source": [
        "**c)** Elabore uma função `decriptacao` que recebe um texto encriptado, o dicionário utilizado para encriptálo (chamado de chave) e um nome de arquivo a ser criado.\n",
        "\n",
        "Assim, no programa principal, a função deve criar um novo arquivo\n",
        "“Msg_decodificada.txt”, contendo o texto decodificado. A função `decriptacao` deve necessariamente\n",
        "usar a função `encriptacao` (em essência, as tarefas são as mesmas!).\n",
        "\n",
        "Pense em como alterar o dicionário `CODIGOS` no corpo de `decriptacao` para que isso seja possível. Ao final do processo, compare o conteúdo dos arquivos “5Parágrafos-1984.txt” e “Msg_decodificada.txt”."
      ]
    },
    {
      "cell_type": "code",
      "execution_count": null,
      "metadata": {
        "id": "g64InFPmd9jt"
      },
      "outputs": [],
      "source": [
        "# Função decriptacao\n",
        "def decriptacao(texto, cod, nome_arq):\n",
        "  pass"
      ]
    },
    {
      "cell_type": "markdown",
      "metadata": {
        "id": "6Qj1wn6ceDJE"
      },
      "source": [
        "**d)** Elabore um program que gerencie a criação dos arquivos “Msg_codificada.txt” e “Msg_decodificada.txt”."
      ]
    },
    {
      "cell_type": "code",
      "execution_count": null,
      "metadata": {
        "id": "mE6BgoQ4dtVb"
      },
      "outputs": [],
      "source": [
        "ARQUIVO = '5Parágrafos-1984.txt'\n",
        "ENCRIPTADO = 'Msg_codificada.txt'\n",
        "DECRIPTADO = 'Msg_decodificada.txt'\n",
        "CODIGOS = {'A':'!', 'Á':'ú', 'À':'Í', 'B':'@', 'C':'#', 'D':'$', 'E':'%',\n",
        "           'É':'À', 'F':'^', 'G':'&', 'H':'*', 'I':'(', 'Í':'à', 'J':')',\n",
        "           'K':'-', 'L':'_', 'M':'+', 'N':'=', 'O':'`', 'Ô':'É', 'Ó':'õ',\n",
        "           'P':'~', 'Q':'{', 'R':'[', 'S':'}', 'T':']', 'U':':', 'Ú':'é',\n",
        "           'V':';', 'W':'\"', 'X':'<', 'Y':'>', 'Z':'0', 'a':'1', 'á':'õ',\n",
        "           'à':'ê', 'ã':'Ú', 'b':'2', 'c':'3', 'd':'4', 'e':'5', 'ê':'Ô',\n",
        "           'é':'ã', 'f':'6', 'g':'7', 'h':'8', 'i':'9', 'í':'Á', 'j':'a',\n",
        "           'k':'b', 'l':'c', 'm':'d', 'n':'e', 'o':'f', 'ô':'í', 'ó':'ô',\n",
        "           'õ':'ó', 'p':'g', 'q':'h', 'r':'i', 's':'j', 't':'k', 'u':'l',\n",
        "           'ú':'á', 'v':'m', 'w':'n', 'x':'o', 'y':'p', 'z':'q'}\n",
        "\n",
        "# Continue o código!"
      ]
    }
  ],
  "metadata": {
    "colab": {
      "provenance": []
    },
    "kernelspec": {
      "display_name": "Python 3",
      "language": "python",
      "name": "python3"
    },
    "language_info": {
      "codemirror_mode": {
        "name": "ipython",
        "version": 3
      },
      "file_extension": ".py",
      "mimetype": "text/x-python",
      "name": "python",
      "nbconvert_exporter": "python",
      "pygments_lexer": "ipython3",
      "version": "3.13.3"
    },
    "vscode": {
      "interpreter": {
        "hash": "c261aea317cc0286b3b3261fbba9abdec21eaa57589985bb7a274bf54d6cc0a7"
      }
    }
  },
  "nbformat": 4,
  "nbformat_minor": 0
}
